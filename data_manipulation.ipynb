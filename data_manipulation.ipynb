{
 "cells": [
  {
   "cell_type": "code",
   "execution_count": 107,
   "metadata": {},
   "outputs": [
    {
     "data": {
      "text/html": [
       "<div>\n",
       "<style scoped>\n",
       "    .dataframe tbody tr th:only-of-type {\n",
       "        vertical-align: middle;\n",
       "    }\n",
       "\n",
       "    .dataframe tbody tr th {\n",
       "        vertical-align: top;\n",
       "    }\n",
       "\n",
       "    .dataframe thead th {\n",
       "        text-align: right;\n",
       "    }\n",
       "</style>\n",
       "<table border=\"1\" class=\"dataframe\">\n",
       "  <thead>\n",
       "    <tr style=\"text-align: right;\">\n",
       "      <th></th>\n",
       "      <th>Quarter</th>\n",
       "      <th>GDP % Change</th>\n",
       "    </tr>\n",
       "  </thead>\n",
       "  <tbody>\n",
       "    <tr>\n",
       "      <th>0</th>\n",
       "      <td>1996 July</td>\n",
       "      <td>0.5</td>\n",
       "    </tr>\n",
       "    <tr>\n",
       "      <th>1</th>\n",
       "      <td>1996 Oct</td>\n",
       "      <td>1.6</td>\n",
       "    </tr>\n",
       "    <tr>\n",
       "      <th>2</th>\n",
       "      <td>1997 Jan</td>\n",
       "      <td>0.8</td>\n",
       "    </tr>\n",
       "    <tr>\n",
       "      <th>3</th>\n",
       "      <td>1997 Apr</td>\n",
       "      <td>0.4</td>\n",
       "    </tr>\n",
       "    <tr>\n",
       "      <th>4</th>\n",
       "      <td>1997 July</td>\n",
       "      <td>1.2</td>\n",
       "    </tr>\n",
       "  </tbody>\n",
       "</table>\n",
       "</div>"
      ],
      "text/plain": [
       "         Quarter  GDP % Change\n",
       "0   1996 July              0.5\n",
       "1    1996 Oct              1.6\n",
       "2    1997 Jan              0.8\n",
       "3    1997 Apr              0.4\n",
       "4   1997 July              1.2"
      ]
     },
     "execution_count": 107,
     "metadata": {},
     "output_type": "execute_result"
    }
   ],
   "source": [
    "import pandas as pd\n",
    "import numpy as np\n",
    "gdp_data=pd.read_excel(\"excel_files//gdp_changeqtr_change.xlsx\")\n",
    "\n",
    "gdp_data.head()"
   ]
  },
  {
   "cell_type": "code",
   "execution_count": 108,
   "metadata": {},
   "outputs": [],
   "source": [
    "def monthly_calculator(prev_gdp,next_gdp,curr_month, start_month):\n",
    "    change=(next_gdp-prev_gdp)/3\n",
    "    value=prev_gdp+(curr_month-start_month)*change\n",
    "    return value\n",
    "    "
   ]
  },
  {
   "cell_type": "code",
   "execution_count": 109,
   "metadata": {},
   "outputs": [],
   "source": [
    "def monthly_converter(df):\n",
    "    i = 0\n",
    "    new_rows = []\n",
    "    while i < (len(df) - 1):\n",
    "        month = str(df['Quarter'][i])[6:10].strip()  # Remove leading/trailing whitespaces\n",
    "        yr = str(df['Quarter'][i])[1:5]\n",
    "        \n",
    "        gdp1 = df['GDP % Change'][i]\n",
    "        gdp2 = df['GDP % Change'][i+1]\n",
    "        \n",
    "        if month == 'Jan':\n",
    "            new_rows.append(['01/'+ yr , gdp1])\n",
    "            new_rows.append(['02/'+ yr, monthly_calculator(gdp1, gdp2, 2, 1)])\n",
    "            new_rows.append(['03/'+ yr, monthly_calculator(gdp1, gdp2, 3, 1)])\n",
    "        elif month == 'Apr':\n",
    "            new_rows.append(['04/'+ yr, gdp1])\n",
    "            new_rows.append(['05/'+ yr, monthly_calculator(gdp1, gdp2, 5, 4)])\n",
    "            new_rows.append(['06/'+ yr, monthly_calculator(gdp1, gdp2, 6, 4)])\n",
    "        elif month == 'July':\n",
    "            new_rows.append(['07/'+ yr, gdp1])\n",
    "            new_rows.append(['08/'+ yr, monthly_calculator(gdp1, gdp2, 8, 7)])\n",
    "            new_rows.append(['09/'+ yr, monthly_calculator(gdp1, gdp2, 9, 7)])\n",
    "        else:\n",
    "            new_rows.append(['10/'+ yr, gdp1])\n",
    "            new_rows.append(['11/'+ yr, monthly_calculator(gdp1, gdp2, 11, 10)])\n",
    "            new_rows.append(['12/' + yr, monthly_calculator(gdp1, gdp2, 12, 10)])\n",
    "        \n",
    "        \n",
    "        \n",
    "        i += 1\n",
    "    \n",
    "    \n",
    "    new_rows.append([df['Quarter'].iloc[-1], df['GDP % Change'].iloc[-1]])\n",
    "    \n",
    "   \n",
    "    new_df = pd.DataFrame(new_rows, columns=['Quarter', 'GDP % Change'])\n",
    "    \n",
    "\n",
    "    \n",
    "    return new_df\n"
   ]
  },
  {
   "cell_type": "code",
   "execution_count": 110,
   "metadata": {},
   "outputs": [
    {
     "name": "stdout",
     "output_type": "stream",
     "text": [
      "     Quarter  GDP % Change\n",
      "0   07/ 1996      0.500000\n",
      "1   08/ 1996      0.866667\n",
      "2   09/ 1996      1.233333\n",
      "3   10/ 1996      1.600000\n",
      "4   11/ 1996      1.333333\n",
      "5   12/ 1996      1.066667\n",
      "6   01/ 1997      0.800000\n",
      "7   02/ 1997      0.666667\n",
      "8   03/ 1997      0.533333\n",
      "9   04/ 1997      0.400000\n",
      "10  05/ 1997      0.666667\n",
      "11  06/ 1997      0.933333\n",
      "12  07/ 1997      1.200000\n",
      "13  08/ 1997      1.333333\n",
      "14  09/ 1997      1.466667\n",
      "15  10/ 1997      1.600000\n",
      "16  11/ 1997      1.600000\n",
      "17  12/ 1997      1.600000\n",
      "18  01/ 1998      1.600000\n",
      "19  02/ 1998      1.500000\n"
     ]
    }
   ],
   "source": [
    "monthly_data=monthly_converter(gdp_data)\n",
    "print(monthly_data.head(20))"
   ]
  },
  {
   "cell_type": "code",
   "execution_count": 106,
   "metadata": {},
   "outputs": [],
   "source": [
    "\n",
    "monthly_data.to_excel('monthly_gdp_data.xlsx', index=False)\n"
   ]
  },
  {
   "cell_type": "code",
   "execution_count": null,
   "metadata": {},
   "outputs": [],
   "source": []
  },
  {
   "cell_type": "code",
   "execution_count": null,
   "metadata": {},
   "outputs": [],
   "source": []
  },
  {
   "cell_type": "code",
   "execution_count": null,
   "metadata": {},
   "outputs": [],
   "source": []
  },
  {
   "cell_type": "code",
   "execution_count": null,
   "metadata": {},
   "outputs": [],
   "source": []
  },
  {
   "cell_type": "code",
   "execution_count": null,
   "metadata": {},
   "outputs": [],
   "source": []
  },
  {
   "cell_type": "code",
   "execution_count": null,
   "metadata": {},
   "outputs": [],
   "source": []
  },
  {
   "cell_type": "code",
   "execution_count": null,
   "metadata": {},
   "outputs": [],
   "source": []
  }
 ],
 "metadata": {
  "kernelspec": {
   "display_name": "base",
   "language": "python",
   "name": "python3"
  },
  "language_info": {
   "codemirror_mode": {
    "name": "ipython",
    "version": 3
   },
   "file_extension": ".py",
   "mimetype": "text/x-python",
   "name": "python",
   "nbconvert_exporter": "python",
   "pygments_lexer": "ipython3",
   "version": "3.10.13"
  }
 },
 "nbformat": 4,
 "nbformat_minor": 2
}
