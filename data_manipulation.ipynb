{
 "cells": [
  {
   "cell_type": "code",
   "execution_count": 111,
   "metadata": {},
   "outputs": [
    {
     "data": {
      "text/html": [
       "<div>\n",
       "<style scoped>\n",
       "    .dataframe tbody tr th:only-of-type {\n",
       "        vertical-align: middle;\n",
       "    }\n",
       "\n",
       "    .dataframe tbody tr th {\n",
       "        vertical-align: top;\n",
       "    }\n",
       "\n",
       "    .dataframe thead th {\n",
       "        text-align: right;\n",
       "    }\n",
       "</style>\n",
       "<table border=\"1\" class=\"dataframe\">\n",
       "  <thead>\n",
       "    <tr style=\"text-align: right;\">\n",
       "      <th></th>\n",
       "      <th>Quarter</th>\n",
       "      <th>GDP % Change</th>\n",
       "    </tr>\n",
       "  </thead>\n",
       "  <tbody>\n",
       "    <tr>\n",
       "      <th>0</th>\n",
       "      <td>1996 July</td>\n",
       "      <td>0.5</td>\n",
       "    </tr>\n",
       "    <tr>\n",
       "      <th>1</th>\n",
       "      <td>1996 Oct</td>\n",
       "      <td>1.6</td>\n",
       "    </tr>\n",
       "    <tr>\n",
       "      <th>2</th>\n",
       "      <td>1997 Jan</td>\n",
       "      <td>0.8</td>\n",
       "    </tr>\n",
       "    <tr>\n",
       "      <th>3</th>\n",
       "      <td>1997 Apr</td>\n",
       "      <td>0.4</td>\n",
       "    </tr>\n",
       "    <tr>\n",
       "      <th>4</th>\n",
       "      <td>1997 July</td>\n",
       "      <td>1.2</td>\n",
       "    </tr>\n",
       "  </tbody>\n",
       "</table>\n",
       "</div>"
      ],
      "text/plain": [
       "         Quarter  GDP % Change\n",
       "0   1996 July              0.5\n",
       "1    1996 Oct              1.6\n",
       "2    1997 Jan              0.8\n",
       "3    1997 Apr              0.4\n",
       "4   1997 July              1.2"
      ]
     },
     "execution_count": 111,
     "metadata": {},
     "output_type": "execute_result"
    }
   ],
   "source": [
    "import pandas as pd\n",
    "import numpy as np\n",
    "gdp_data=pd.read_excel(\"excel_files//gdp_changeqtr_change.xlsx\")\n",
    "\n",
    "gdp_data.head()"
   ]
  },
  {
   "cell_type": "code",
   "execution_count": 112,
   "metadata": {},
   "outputs": [],
   "source": [
    "def monthly_calculator(prev_gdp,next_gdp,curr_month, start_month):\n",
    "    change=(next_gdp-prev_gdp)/3\n",
    "    value=prev_gdp+(curr_month-start_month)*change\n",
    "    return value\n",
    "    "
   ]
  },
  {
   "cell_type": "code",
   "execution_count": 113,
   "metadata": {},
   "outputs": [],
   "source": [
    "def monthly_converter(df):\n",
    "    i = 0\n",
    "    new_rows = []\n",
    "    while i < (len(df) - 1):\n",
    "        month = str(df['Quarter'][i])[6:10].strip()  # Remove leading/trailing whitespaces\n",
    "        yr = str(df['Quarter'][i])[1:5]\n",
    "        \n",
    "        gdp1 = df['GDP % Change'][i]\n",
    "        gdp2 = df['GDP % Change'][i+1]\n",
    "        \n",
    "        if month == 'Jan':\n",
    "            new_rows.append(['01/'+ yr , gdp1])\n",
    "            new_rows.append(['02/'+ yr, monthly_calculator(gdp1, gdp2, 2, 1)])\n",
    "            new_rows.append(['03/'+ yr, monthly_calculator(gdp1, gdp2, 3, 1)])\n",
    "        elif month == 'Apr':\n",
    "            new_rows.append(['04/'+ yr, gdp1])\n",
    "            new_rows.append(['05/'+ yr, monthly_calculator(gdp1, gdp2, 5, 4)])\n",
    "            new_rows.append(['06/'+ yr, monthly_calculator(gdp1, gdp2, 6, 4)])\n",
    "        elif month == 'July':\n",
    "            new_rows.append(['07/'+ yr, gdp1])\n",
    "            new_rows.append(['08/'+ yr, monthly_calculator(gdp1, gdp2, 8, 7)])\n",
    "            new_rows.append(['09/'+ yr, monthly_calculator(gdp1, gdp2, 9, 7)])\n",
    "        else:\n",
    "            new_rows.append(['10/'+ yr, gdp1])\n",
    "            new_rows.append(['11/'+ yr, monthly_calculator(gdp1, gdp2, 11, 10)])\n",
    "            new_rows.append(['12/' + yr, monthly_calculator(gdp1, gdp2, 12, 10)])\n",
    "        \n",
    "        \n",
    "        \n",
    "        i += 1\n",
    "    \n",
    "    \n",
    "    new_rows.append([df['Quarter'].iloc[-1], df['GDP % Change'].iloc[-1]])\n",
    "    \n",
    "   \n",
    "    new_df = pd.DataFrame(new_rows, columns=['Quarter', 'GDP % Change'])\n",
    "    \n",
    "\n",
    "    \n",
    "    return new_df\n"
   ]
  },
  {
   "cell_type": "code",
   "execution_count": 114,
   "metadata": {},
   "outputs": [
    {
     "name": "stdout",
     "output_type": "stream",
     "text": [
      "    Quarter  GDP % Change\n",
      "0   07/1996      0.500000\n",
      "1   08/1996      0.866667\n",
      "2   09/1996      1.233333\n",
      "3   10/1996      1.600000\n",
      "4   11/1996      1.333333\n",
      "5   12/1996      1.066667\n",
      "6   01/1997      0.800000\n",
      "7   02/1997      0.666667\n",
      "8   03/1997      0.533333\n",
      "9   04/1997      0.400000\n",
      "10  05/1997      0.666667\n",
      "11  06/1997      0.933333\n",
      "12  07/1997      1.200000\n",
      "13  08/1997      1.333333\n",
      "14  09/1997      1.466667\n",
      "15  10/1997      1.600000\n",
      "16  11/1997      1.600000\n",
      "17  12/1997      1.600000\n",
      "18  01/1998      1.600000\n",
      "19  02/1998      1.500000\n"
     ]
    }
   ],
   "source": [
    "monthly_data=monthly_converter(gdp_data)\n",
    "print(monthly_data.head(20))"
   ]
  },
  {
   "cell_type": "code",
   "execution_count": 115,
   "metadata": {},
   "outputs": [],
   "source": [
    "\n",
    "monthly_data.to_excel('monthly_gdp_data1.xlsx', index=False)\n"
   ]
  },
  {
   "cell_type": "code",
   "execution_count": 122,
   "metadata": {},
   "outputs": [],
   "source": [
    "import os\n",
    "import pandas as pd\n",
    "\n",
    "# Set the directory where the Excel files are located\n",
    "directory = \"C:\\\\Users\\\\91978\\\\Desktop\\\\inflation_prediction_project\\\\excel_files\"\n",
    "\n",
    "# Initialize an empty list to store DataFrames\n",
    "dfs = []\n",
    "\n",
    "# Iterate over each file in the directory\n",
    "for filename in os.listdir(directory):\n",
    "    if filename.endswith('.xlsx'):  # Check if the file is an Excel file\n",
    "        filepath = os.path.join(directory, filename)\n",
    "        # Read the Excel file into a DataFrame\n",
    "        df = pd.read_excel(filepath)\n",
    "        # Append the DataFrame to the list\n",
    "        dfs.append(df)\n",
    "\n",
    "# Concatenate the DataFrames along the rows\n",
    "combined_df = pd.concat(dfs, ignore_index=True)\n",
    "\n",
    "# Handle missing dates if necessary (e.g., fill or drop)\n",
    "# combined_df = combined_df.dropna(subset=['Date'])\n",
    "\n",
    "# Write the combined DataFrame to a new Excel file\n",
    "output_file=\"C:\\\\Users\\\\91978\\\\Desktop\\\\inflation_prediction_project\\\\excel_files\\\\combine_dataset.xlsx\"\n",
    "\n",
    "combined_df.to_excel(output_file, index=False,engine='xlsxwriter')\n"
   ]
  },
  {
   "cell_type": "markdown",
   "metadata": {},
   "source": [
    "Extrapolation of unemployment data in monthly format using X-12-ARIMA"
   ]
  },
  {
   "cell_type": "code",
   "execution_count": 263,
   "metadata": {},
   "outputs": [],
   "source": [
    "yoy=pd.read_excel('C:\\\\Users\\\\91978\\\\Desktop\\\\inflation_prediction_project\\\\yoy_unemployment_rate.xlsx')\n",
    "monthly_data=pd.read_excel('C:\\\\Users\\\\91978\\\\Desktop\\\\inflation_prediction_project\\\\excel_files\\\\unemployment_monthly.xlsx')\n",
    "\n",
    "\n"
   ]
  },
  {
   "cell_type": "code",
   "execution_count": 264,
   "metadata": {},
   "outputs": [
    {
     "name": "stdout",
     "output_type": "stream",
     "text": [
      "        Date  Unemployment Rate (%)\n",
      "0 2016-04-01                    8.9\n",
      "1 2016-05-01                    9.7\n",
      "2 2016-06-01                    8.9\n",
      "3 2016-07-01                    8.5\n",
      "4 2016-08-01                    9.6\n"
     ]
    }
   ],
   "source": [
    "import pandas as pd\n",
    "\n",
    "\n",
    "\n",
    "# Convert the 'Date' column to datetime format\n",
    "monthly_data['Date'] = pd.to_datetime(monthly_data['Date'], format='%m/%Y')\n",
    "\n",
    "# Sort the dataframe by date\n",
    "monthly_data.sort_values('Date', inplace=True)\n",
    "\n",
    "# Display the first few rows of the dataframe\n",
    "print(monthly_data.head())\n",
    "\n",
    "# Now you can proceed with the X-13 ARIMA analysis using the 'Date' and 'Unemployment Rate (%)' columns.\n"
   ]
  },
  {
   "cell_type": "code",
   "execution_count": 265,
   "metadata": {},
   "outputs": [
    {
     "name": "stdout",
     "output_type": "stream",
     "text": [
      "C:\\Users\\91978\\Desktop\\inflation_prediction_project\\Time_Sereis_models\\x12a.exe\n",
      "C:\\Users\\91978\\Desktop\\inflation_prediction_project\\Time_Sereis_models\\x13as.exe\n"
     ]
    }
   ],
   "source": [
    "import os\n",
    "print(os.environ['X12PATH'])\n",
    "print(os.environ['X13PATH'])\n"
   ]
  },
  {
   "cell_type": "code",
   "execution_count": 266,
   "metadata": {},
   "outputs": [
    {
     "ename": "X13Error",
     "evalue": "ERROR: Series to be modelled and/or seasonally adjusted must have at\n        least 3 complete years of data.\n  \n  No seasonal adjustment this run",
     "output_type": "error",
     "traceback": [
      "\u001b[1;31m---------------------------------------------------------------------------\u001b[0m",
      "\u001b[1;31mX13Error\u001b[0m                                  Traceback (most recent call last)",
      "Cell \u001b[1;32mIn[266], line 22\u001b[0m\n\u001b[0;32m     19\u001b[0m monthly_data\u001b[38;5;241m.\u001b[39mindex \u001b[38;5;241m=\u001b[39m pd\u001b[38;5;241m.\u001b[39mdate_range(start\u001b[38;5;241m=\u001b[39mmonthly_data[\u001b[38;5;124m'\u001b[39m\u001b[38;5;124mDate\u001b[39m\u001b[38;5;124m'\u001b[39m]\u001b[38;5;241m.\u001b[39mmin(), periods\u001b[38;5;241m=\u001b[39m\u001b[38;5;28mlen\u001b[39m(monthly_data), freq\u001b[38;5;241m=\u001b[39m\u001b[38;5;124m'\u001b[39m\u001b[38;5;124mMS\u001b[39m\u001b[38;5;124m'\u001b[39m)\n\u001b[0;32m     21\u001b[0m \u001b[38;5;66;03m# Apply X-12-ARIMA to the yearly data\u001b[39;00m\n\u001b[1;32m---> 22\u001b[0m result_yearly \u001b[38;5;241m=\u001b[39m \u001b[43mx13_arima_analysis\u001b[49m\u001b[43m(\u001b[49m\u001b[43myoy\u001b[49m\u001b[43m[\u001b[49m\u001b[38;5;124;43m'\u001b[39;49m\u001b[38;5;124;43mUnemployment Rate (\u001b[39;49m\u001b[38;5;124;43m%\u001b[39;49m\u001b[38;5;124;43m)\u001b[39;49m\u001b[38;5;124;43m'\u001b[39;49m\u001b[43m]\u001b[49m\u001b[43m,\u001b[49m\u001b[43m \u001b[49m\u001b[43mx12path\u001b[49m\u001b[38;5;241;43m=\u001b[39;49m\u001b[38;5;124;43m\"\u001b[39;49m\u001b[38;5;124;43mC:\u001b[39;49m\u001b[38;5;130;43;01m\\\\\u001b[39;49;00m\u001b[38;5;124;43mUsers\u001b[39;49m\u001b[38;5;130;43;01m\\\\\u001b[39;49;00m\u001b[38;5;124;43m91978\u001b[39;49m\u001b[38;5;130;43;01m\\\\\u001b[39;49;00m\u001b[38;5;124;43mDesktop\u001b[39;49m\u001b[38;5;130;43;01m\\\\\u001b[39;49;00m\u001b[38;5;124;43minflation_prediction_project\u001b[39;49m\u001b[38;5;130;43;01m\\\\\u001b[39;49;00m\u001b[38;5;124;43mTime_Sereis_models\u001b[39;49m\u001b[38;5;130;43;01m\\\\\u001b[39;49;00m\u001b[38;5;124;43mx12a.exe\u001b[39;49m\u001b[38;5;124;43m\"\u001b[39;49m\u001b[43m)\u001b[49m\n\u001b[0;32m     24\u001b[0m \u001b[38;5;66;03m# Get the seasonal adjusted data for yearly data\u001b[39;00m\n\u001b[0;32m     25\u001b[0m seasonal_adjusted_yearly \u001b[38;5;241m=\u001b[39m result_yearly\u001b[38;5;241m.\u001b[39mseasadj\n",
      "File \u001b[1;32mc:\\Users\\91978\\anaconda3\\lib\\site-packages\\pandas\\util\\_decorators.py:213\u001b[0m, in \u001b[0;36mdeprecate_kwarg.<locals>._deprecate_kwarg.<locals>.wrapper\u001b[1;34m(*args, **kwargs)\u001b[0m\n\u001b[0;32m    211\u001b[0m         \u001b[38;5;28;01mraise\u001b[39;00m \u001b[38;5;167;01mTypeError\u001b[39;00m(msg)\n\u001b[0;32m    212\u001b[0m     kwargs[new_arg_name] \u001b[38;5;241m=\u001b[39m new_arg_value\n\u001b[1;32m--> 213\u001b[0m \u001b[38;5;28;01mreturn\u001b[39;00m func(\u001b[38;5;241m*\u001b[39margs, \u001b[38;5;241m*\u001b[39m\u001b[38;5;241m*\u001b[39mkwargs)\n",
      "File \u001b[1;32mc:\\Users\\91978\\anaconda3\\lib\\site-packages\\statsmodels\\tsa\\x13.py:458\u001b[0m, in \u001b[0;36mx13_arima_analysis\u001b[1;34m(endog, maxorder, maxdiff, diff, exog, log, outlier, trading, forecast_periods, retspec, speconly, start, freq, print_stdout, x12path, prefer_x13, tempdir)\u001b[0m\n\u001b[0;32m    456\u001b[0m \u001b[38;5;66;03m# check for errors\u001b[39;00m\n\u001b[0;32m    457\u001b[0m errors \u001b[38;5;241m=\u001b[39m _open_and_read(ftempout\u001b[38;5;241m.\u001b[39mname \u001b[38;5;241m+\u001b[39m \u001b[38;5;124m'\u001b[39m\u001b[38;5;124m.err\u001b[39m\u001b[38;5;124m'\u001b[39m)\n\u001b[1;32m--> 458\u001b[0m \u001b[43m_check_errors\u001b[49m\u001b[43m(\u001b[49m\u001b[43merrors\u001b[49m\u001b[43m)\u001b[49m\n\u001b[0;32m    460\u001b[0m \u001b[38;5;66;03m# read in results\u001b[39;00m\n\u001b[0;32m    461\u001b[0m results \u001b[38;5;241m=\u001b[39m _open_and_read(ftempout\u001b[38;5;241m.\u001b[39mname \u001b[38;5;241m+\u001b[39m \u001b[38;5;124m'\u001b[39m\u001b[38;5;124m.out\u001b[39m\u001b[38;5;124m'\u001b[39m)\n",
      "File \u001b[1;32mc:\\Users\\91978\\anaconda3\\lib\\site-packages\\statsmodels\\tsa\\x13.py:187\u001b[0m, in \u001b[0;36m_check_errors\u001b[1;34m(errors)\u001b[0m\n\u001b[0;32m    185\u001b[0m errors \u001b[38;5;241m=\u001b[39m errors[errors\u001b[38;5;241m.\u001b[39mfind(\u001b[38;5;124m\"\u001b[39m\u001b[38;5;124mspc:\u001b[39m\u001b[38;5;124m\"\u001b[39m)\u001b[38;5;241m+\u001b[39m\u001b[38;5;241m4\u001b[39m:]\u001b[38;5;241m.\u001b[39mstrip()\n\u001b[0;32m    186\u001b[0m \u001b[38;5;28;01mif\u001b[39;00m errors \u001b[38;5;129;01mand\u001b[39;00m \u001b[38;5;124m'\u001b[39m\u001b[38;5;124mERROR\u001b[39m\u001b[38;5;124m'\u001b[39m \u001b[38;5;129;01min\u001b[39;00m errors:\n\u001b[1;32m--> 187\u001b[0m     \u001b[38;5;28;01mraise\u001b[39;00m X13Error(errors)\n\u001b[0;32m    188\u001b[0m \u001b[38;5;28;01melif\u001b[39;00m errors \u001b[38;5;129;01mand\u001b[39;00m \u001b[38;5;124m'\u001b[39m\u001b[38;5;124mWARNING\u001b[39m\u001b[38;5;124m'\u001b[39m \u001b[38;5;129;01min\u001b[39;00m errors:\n\u001b[0;32m    189\u001b[0m     warn(errors, X13Warning)\n",
      "\u001b[1;31mX13Error\u001b[0m: ERROR: Series to be modelled and/or seasonally adjusted must have at\n        least 3 complete years of data.\n  \n  No seasonal adjustment this run"
     ]
    }
   ],
   "source": [
    "\n",
    "import pandas as pd\n",
    "from statsmodels.tsa.x13 import x13_arima_analysis\n",
    "from pandas import DatetimeIndex\n",
    "#  Strip leading/trailing whitespaces from column names\n",
    "yoy.columns = yoy.columns.str.strip()\n",
    "\n",
    "\n",
    "# Convert the 'date' column to datetime format\n",
    "yoy['date'] = pd.to_datetime(yoy['date'])\n",
    "\n",
    "# Create a new index with monthly frequency\n",
    "yoy.index = pd.date_range(start=yoy['date'].min(), periods=len(yoy), freq='MS')\n",
    "\n",
    "# Convert the 'Date' column to datetime format\n",
    "monthly_data['Date'] = pd.to_datetime(monthly_data['Date'])\n",
    "\n",
    "# Create a new index with monthly frequency\n",
    "monthly_data.index = pd.date_range(start=monthly_data['Date'].min(), periods=len(monthly_data), freq='MS')\n",
    "\n",
    "# Apply X-12-ARIMA to the yearly data\n",
    "result_yearly = x13_arima_analysis(yoy['Unemployment Rate (%)'], x12path=\"C:\\\\Users\\\\91978\\\\Desktop\\\\inflation_prediction_project\\\\Time_Sereis_models\\\\x12a.exe\")\n",
    "\n",
    "# Get the seasonal adjusted data for yearly data\n",
    "seasonal_adjusted_yearly = result_yearly.seasadj\n",
    "\n",
    "# Apply X-12-ARIMA to the monthly data\n",
    "result_monthly = x13_arima_analysis(monthly_data['Unemployment Rate (%)'], x12path=\"C:\\\\Users\\\\91978\\\\Desktop\\\\inflation_prediction_project\\\\Time_Sereis_models\\\\x12a.exe\")\n",
    "\n",
    "# Get the seasonal adjusted data for monthly data\n",
    "seasonal_adjusted_monthly = result_monthly.seasadj"
   ]
  },
  {
   "cell_type": "code",
   "execution_count": 267,
   "metadata": {},
   "outputs": [
    {
     "data": {
      "text/html": [
       "<div>\n",
       "<style scoped>\n",
       "    .dataframe tbody tr th:only-of-type {\n",
       "        vertical-align: middle;\n",
       "    }\n",
       "\n",
       "    .dataframe tbody tr th {\n",
       "        vertical-align: top;\n",
       "    }\n",
       "\n",
       "    .dataframe thead th {\n",
       "        text-align: right;\n",
       "    }\n",
       "</style>\n",
       "<table border=\"1\" class=\"dataframe\">\n",
       "  <thead>\n",
       "    <tr style=\"text-align: right;\">\n",
       "      <th></th>\n",
       "      <th>date</th>\n",
       "      <th>Unemployment Rate (%)</th>\n",
       "      <th>Annual Change</th>\n",
       "      <th></th>\n",
       "      <th>Date</th>\n",
       "      <th>Unemployment Rate (%)</th>\n",
       "    </tr>\n",
       "  </thead>\n",
       "  <tbody>\n",
       "    <tr>\n",
       "      <th>0</th>\n",
       "      <td>1991-12-01</td>\n",
       "      <td>6.737</td>\n",
       "      <td>NaN</td>\n",
       "      <td>NaN</td>\n",
       "      <td>NaT</td>\n",
       "      <td>NaN</td>\n",
       "    </tr>\n",
       "    <tr>\n",
       "      <th>1</th>\n",
       "      <td>1992-12-01</td>\n",
       "      <td>6.815</td>\n",
       "      <td>0.08</td>\n",
       "      <td>NaN</td>\n",
       "      <td>NaT</td>\n",
       "      <td>NaN</td>\n",
       "    </tr>\n",
       "    <tr>\n",
       "      <th>2</th>\n",
       "      <td>1993-12-01</td>\n",
       "      <td>6.798</td>\n",
       "      <td>-0.02</td>\n",
       "      <td>NaN</td>\n",
       "      <td>NaT</td>\n",
       "      <td>NaN</td>\n",
       "    </tr>\n",
       "    <tr>\n",
       "      <th>3</th>\n",
       "      <td>1994-12-01</td>\n",
       "      <td>6.830</td>\n",
       "      <td>0.03</td>\n",
       "      <td>NaN</td>\n",
       "      <td>NaT</td>\n",
       "      <td>NaN</td>\n",
       "    </tr>\n",
       "    <tr>\n",
       "      <th>4</th>\n",
       "      <td>1995-12-01</td>\n",
       "      <td>7.014</td>\n",
       "      <td>0.18</td>\n",
       "      <td>NaN</td>\n",
       "      <td>NaT</td>\n",
       "      <td>NaN</td>\n",
       "    </tr>\n",
       "  </tbody>\n",
       "</table>\n",
       "</div>"
      ],
      "text/plain": [
       "        date   Unemployment Rate (%)   Annual Change     Date  \\\n",
       "0 1991-12-01                   6.737             NaN NaN  NaT   \n",
       "1 1992-12-01                   6.815            0.08 NaN  NaT   \n",
       "2 1993-12-01                   6.798           -0.02 NaN  NaT   \n",
       "3 1994-12-01                   6.830            0.03 NaN  NaT   \n",
       "4 1995-12-01                   7.014            0.18 NaN  NaT   \n",
       "\n",
       "   Unemployment Rate (%)  \n",
       "0                    NaN  \n",
       "1                    NaN  \n",
       "2                    NaN  \n",
       "3                    NaN  \n",
       "4                    NaN  "
      ]
     },
     "execution_count": 267,
     "metadata": {},
     "output_type": "execute_result"
    }
   ],
   "source": [
    "combined_data.head()"
   ]
  },
  {
   "cell_type": "code",
   "execution_count": 268,
   "metadata": {},
   "outputs": [
    {
     "data": {
      "text/html": [
       "<div>\n",
       "<style scoped>\n",
       "    .dataframe tbody tr th:only-of-type {\n",
       "        vertical-align: middle;\n",
       "    }\n",
       "\n",
       "    .dataframe tbody tr th {\n",
       "        vertical-align: top;\n",
       "    }\n",
       "\n",
       "    .dataframe thead th {\n",
       "        text-align: right;\n",
       "    }\n",
       "</style>\n",
       "<table border=\"1\" class=\"dataframe\">\n",
       "  <thead>\n",
       "    <tr style=\"text-align: right;\">\n",
       "      <th></th>\n",
       "      <th>date</th>\n",
       "      <th>Unemployment Rate (%)</th>\n",
       "      <th>Annual Change</th>\n",
       "      <th></th>\n",
       "    </tr>\n",
       "  </thead>\n",
       "  <tbody>\n",
       "    <tr>\n",
       "      <th>1991-12-01</th>\n",
       "      <td>1991-12-01</td>\n",
       "      <td>6.737</td>\n",
       "      <td>NaN</td>\n",
       "      <td>NaN</td>\n",
       "    </tr>\n",
       "    <tr>\n",
       "      <th>1992-01-01</th>\n",
       "      <td>1992-12-01</td>\n",
       "      <td>6.815</td>\n",
       "      <td>0.08</td>\n",
       "      <td>NaN</td>\n",
       "    </tr>\n",
       "    <tr>\n",
       "      <th>1992-02-01</th>\n",
       "      <td>1993-12-01</td>\n",
       "      <td>6.798</td>\n",
       "      <td>-0.02</td>\n",
       "      <td>NaN</td>\n",
       "    </tr>\n",
       "    <tr>\n",
       "      <th>1992-03-01</th>\n",
       "      <td>1994-12-01</td>\n",
       "      <td>6.830</td>\n",
       "      <td>0.03</td>\n",
       "      <td>NaN</td>\n",
       "    </tr>\n",
       "    <tr>\n",
       "      <th>1992-04-01</th>\n",
       "      <td>1995-12-01</td>\n",
       "      <td>7.014</td>\n",
       "      <td>0.18</td>\n",
       "      <td>NaN</td>\n",
       "    </tr>\n",
       "  </tbody>\n",
       "</table>\n",
       "</div>"
      ],
      "text/plain": [
       "                 date  Unemployment Rate (%)  Annual Change    \n",
       "1991-12-01 1991-12-01                  6.737            NaN NaN\n",
       "1992-01-01 1992-12-01                  6.815           0.08 NaN\n",
       "1992-02-01 1993-12-01                  6.798          -0.02 NaN\n",
       "1992-03-01 1994-12-01                  6.830           0.03 NaN\n",
       "1992-04-01 1995-12-01                  7.014           0.18 NaN"
      ]
     },
     "execution_count": 268,
     "metadata": {},
     "output_type": "execute_result"
    }
   ],
   "source": [
    "yoy.head()"
   ]
  },
  {
   "cell_type": "code",
   "execution_count": 269,
   "metadata": {},
   "outputs": [
    {
     "data": {
      "text/html": [
       "<div>\n",
       "<style scoped>\n",
       "    .dataframe tbody tr th:only-of-type {\n",
       "        vertical-align: middle;\n",
       "    }\n",
       "\n",
       "    .dataframe tbody tr th {\n",
       "        vertical-align: top;\n",
       "    }\n",
       "\n",
       "    .dataframe thead th {\n",
       "        text-align: right;\n",
       "    }\n",
       "</style>\n",
       "<table border=\"1\" class=\"dataframe\">\n",
       "  <thead>\n",
       "    <tr style=\"text-align: right;\">\n",
       "      <th></th>\n",
       "      <th>Date</th>\n",
       "      <th>Unemployment Rate (%)</th>\n",
       "    </tr>\n",
       "  </thead>\n",
       "  <tbody>\n",
       "    <tr>\n",
       "      <th>0</th>\n",
       "      <td>2016-04-01</td>\n",
       "      <td>8.9</td>\n",
       "    </tr>\n",
       "    <tr>\n",
       "      <th>1</th>\n",
       "      <td>2016-05-01</td>\n",
       "      <td>9.7</td>\n",
       "    </tr>\n",
       "    <tr>\n",
       "      <th>2</th>\n",
       "      <td>2016-06-01</td>\n",
       "      <td>8.9</td>\n",
       "    </tr>\n",
       "    <tr>\n",
       "      <th>3</th>\n",
       "      <td>2016-07-01</td>\n",
       "      <td>8.5</td>\n",
       "    </tr>\n",
       "    <tr>\n",
       "      <th>4</th>\n",
       "      <td>2016-08-01</td>\n",
       "      <td>9.6</td>\n",
       "    </tr>\n",
       "  </tbody>\n",
       "</table>\n",
       "</div>"
      ],
      "text/plain": [
       "        Date  Unemployment Rate (%)\n",
       "0 2016-04-01                    8.9\n",
       "1 2016-05-01                    9.7\n",
       "2 2016-06-01                    8.9\n",
       "3 2016-07-01                    8.5\n",
       "4 2016-08-01                    9.6"
      ]
     },
     "execution_count": 269,
     "metadata": {},
     "output_type": "execute_result"
    }
   ],
   "source": [
    "monthly.head()"
   ]
  },
  {
   "cell_type": "code",
   "execution_count": 270,
   "metadata": {},
   "outputs": [
    {
     "name": "stdout",
     "output_type": "stream",
     "text": [
      "Index(['date', 'Unemployment Rate (%)', 'Annual Change', ''], dtype='object')\n"
     ]
    }
   ],
   "source": [
    "print(yoy.columns)\n"
   ]
  },
  {
   "cell_type": "code",
   "execution_count": 271,
   "metadata": {},
   "outputs": [
    {
     "data": {
      "text/plain": [
       "1991-12-01   1991-12-01\n",
       "1992-01-01   1992-12-01\n",
       "1992-02-01   1993-12-01\n",
       "1992-03-01   1994-12-01\n",
       "1992-04-01   1995-12-01\n",
       "1992-05-01   1996-12-01\n",
       "1992-06-01   1997-12-01\n",
       "1992-07-01   1998-12-01\n",
       "1992-08-01   1999-12-01\n",
       "1992-09-01   2000-12-01\n",
       "1992-10-01   2001-12-01\n",
       "1992-11-01   2002-12-01\n",
       "1992-12-01   2003-12-01\n",
       "1993-01-01   2004-12-01\n",
       "1993-02-01   2005-12-01\n",
       "1993-03-01   2006-12-01\n",
       "1993-04-01   2007-12-01\n",
       "1993-05-01   2008-12-01\n",
       "1993-06-01   2009-12-01\n",
       "1993-07-01   2010-12-01\n",
       "1993-08-01   2011-12-01\n",
       "1993-09-01   2012-12-01\n",
       "1993-10-01   2013-12-01\n",
       "1993-11-01   2014-12-01\n",
       "1993-12-01   2015-12-01\n",
       "1994-01-01   2016-12-01\n",
       "1994-02-01   2017-12-01\n",
       "1994-03-01   2018-12-01\n",
       "1994-04-01   2019-12-01\n",
       "1994-05-01   2020-12-01\n",
       "1994-06-01   2021-12-01\n",
       "1994-07-01   2022-12-01\n",
       "Freq: MS, Name: date, dtype: datetime64[ns]"
      ]
     },
     "execution_count": 271,
     "metadata": {},
     "output_type": "execute_result"
    }
   ],
   "source": [
    "yoy['date']"
   ]
  },
  {
   "cell_type": "code",
   "execution_count": 272,
   "metadata": {},
   "outputs": [
    {
     "data": {
      "text/plain": [
       "Index(['Date', 'Unemployment Rate (%)'], dtype='object')"
      ]
     },
     "execution_count": 272,
     "metadata": {},
     "output_type": "execute_result"
    }
   ],
   "source": [
    "monthly_data.columns"
   ]
  },
  {
   "cell_type": "code",
   "execution_count": 273,
   "metadata": {},
   "outputs": [
    {
     "ename": "X13Error",
     "evalue": "ERROR: Series to be modelled and/or seasonally adjusted must have at\n        least 3 complete years of data.\n  \n  No seasonal adjustment this run",
     "output_type": "error",
     "traceback": [
      "\u001b[1;31m---------------------------------------------------------------------------\u001b[0m",
      "\u001b[1;31mX13Error\u001b[0m                                  Traceback (most recent call last)",
      "Cell \u001b[1;32mIn[273], line 27\u001b[0m\n\u001b[0;32m     24\u001b[0m     \u001b[38;5;28;01mraise\u001b[39;00m \u001b[38;5;167;01mValueError\u001b[39;00m(\u001b[38;5;124m\"\u001b[39m\u001b[38;5;124mMonthly data must cover at least 3 complete years\u001b[39m\u001b[38;5;124m\"\u001b[39m)\n\u001b[0;32m     26\u001b[0m \u001b[38;5;66;03m# Apply X-12-ARIMA to the yearly data\u001b[39;00m\n\u001b[1;32m---> 27\u001b[0m result_yearly \u001b[38;5;241m=\u001b[39m \u001b[43mx13_arima_analysis\u001b[49m\u001b[43m(\u001b[49m\u001b[43myoy\u001b[49m\u001b[43m[\u001b[49m\u001b[38;5;124;43m'\u001b[39;49m\u001b[38;5;124;43mUnemployment Rate (\u001b[39;49m\u001b[38;5;124;43m%\u001b[39;49m\u001b[38;5;124;43m)\u001b[39;49m\u001b[38;5;124;43m'\u001b[39;49m\u001b[43m]\u001b[49m\u001b[43m,\u001b[49m\u001b[43m \u001b[49m\u001b[43mx12path\u001b[49m\u001b[38;5;241;43m=\u001b[39;49m\u001b[38;5;124;43m\"\u001b[39;49m\u001b[38;5;124;43mC:\u001b[39;49m\u001b[38;5;130;43;01m\\\\\u001b[39;49;00m\u001b[38;5;124;43mUsers\u001b[39;49m\u001b[38;5;130;43;01m\\\\\u001b[39;49;00m\u001b[38;5;124;43m91978\u001b[39;49m\u001b[38;5;130;43;01m\\\\\u001b[39;49;00m\u001b[38;5;124;43mDesktop\u001b[39;49m\u001b[38;5;130;43;01m\\\\\u001b[39;49;00m\u001b[38;5;124;43minflation_prediction_project\u001b[39;49m\u001b[38;5;130;43;01m\\\\\u001b[39;49;00m\u001b[38;5;124;43mTime_Sereis_models\u001b[39;49m\u001b[38;5;130;43;01m\\\\\u001b[39;49;00m\u001b[38;5;124;43mx12a.exe\u001b[39;49m\u001b[38;5;124;43m\"\u001b[39;49m\u001b[43m)\u001b[49m\n\u001b[0;32m     29\u001b[0m \u001b[38;5;66;03m# Get the seasonal adjusted data for yearly data\u001b[39;00m\n\u001b[0;32m     30\u001b[0m seasonal_adjusted_yearly \u001b[38;5;241m=\u001b[39m result_yearly\u001b[38;5;241m.\u001b[39mseasadj\n",
      "File \u001b[1;32mc:\\Users\\91978\\anaconda3\\lib\\site-packages\\pandas\\util\\_decorators.py:213\u001b[0m, in \u001b[0;36mdeprecate_kwarg.<locals>._deprecate_kwarg.<locals>.wrapper\u001b[1;34m(*args, **kwargs)\u001b[0m\n\u001b[0;32m    211\u001b[0m         \u001b[38;5;28;01mraise\u001b[39;00m \u001b[38;5;167;01mTypeError\u001b[39;00m(msg)\n\u001b[0;32m    212\u001b[0m     kwargs[new_arg_name] \u001b[38;5;241m=\u001b[39m new_arg_value\n\u001b[1;32m--> 213\u001b[0m \u001b[38;5;28;01mreturn\u001b[39;00m func(\u001b[38;5;241m*\u001b[39margs, \u001b[38;5;241m*\u001b[39m\u001b[38;5;241m*\u001b[39mkwargs)\n",
      "File \u001b[1;32mc:\\Users\\91978\\anaconda3\\lib\\site-packages\\statsmodels\\tsa\\x13.py:458\u001b[0m, in \u001b[0;36mx13_arima_analysis\u001b[1;34m(endog, maxorder, maxdiff, diff, exog, log, outlier, trading, forecast_periods, retspec, speconly, start, freq, print_stdout, x12path, prefer_x13, tempdir)\u001b[0m\n\u001b[0;32m    456\u001b[0m \u001b[38;5;66;03m# check for errors\u001b[39;00m\n\u001b[0;32m    457\u001b[0m errors \u001b[38;5;241m=\u001b[39m _open_and_read(ftempout\u001b[38;5;241m.\u001b[39mname \u001b[38;5;241m+\u001b[39m \u001b[38;5;124m'\u001b[39m\u001b[38;5;124m.err\u001b[39m\u001b[38;5;124m'\u001b[39m)\n\u001b[1;32m--> 458\u001b[0m \u001b[43m_check_errors\u001b[49m\u001b[43m(\u001b[49m\u001b[43merrors\u001b[49m\u001b[43m)\u001b[49m\n\u001b[0;32m    460\u001b[0m \u001b[38;5;66;03m# read in results\u001b[39;00m\n\u001b[0;32m    461\u001b[0m results \u001b[38;5;241m=\u001b[39m _open_and_read(ftempout\u001b[38;5;241m.\u001b[39mname \u001b[38;5;241m+\u001b[39m \u001b[38;5;124m'\u001b[39m\u001b[38;5;124m.out\u001b[39m\u001b[38;5;124m'\u001b[39m)\n",
      "File \u001b[1;32mc:\\Users\\91978\\anaconda3\\lib\\site-packages\\statsmodels\\tsa\\x13.py:187\u001b[0m, in \u001b[0;36m_check_errors\u001b[1;34m(errors)\u001b[0m\n\u001b[0;32m    185\u001b[0m errors \u001b[38;5;241m=\u001b[39m errors[errors\u001b[38;5;241m.\u001b[39mfind(\u001b[38;5;124m\"\u001b[39m\u001b[38;5;124mspc:\u001b[39m\u001b[38;5;124m\"\u001b[39m)\u001b[38;5;241m+\u001b[39m\u001b[38;5;241m4\u001b[39m:]\u001b[38;5;241m.\u001b[39mstrip()\n\u001b[0;32m    186\u001b[0m \u001b[38;5;28;01mif\u001b[39;00m errors \u001b[38;5;129;01mand\u001b[39;00m \u001b[38;5;124m'\u001b[39m\u001b[38;5;124mERROR\u001b[39m\u001b[38;5;124m'\u001b[39m \u001b[38;5;129;01min\u001b[39;00m errors:\n\u001b[1;32m--> 187\u001b[0m     \u001b[38;5;28;01mraise\u001b[39;00m X13Error(errors)\n\u001b[0;32m    188\u001b[0m \u001b[38;5;28;01melif\u001b[39;00m errors \u001b[38;5;129;01mand\u001b[39;00m \u001b[38;5;124m'\u001b[39m\u001b[38;5;124mWARNING\u001b[39m\u001b[38;5;124m'\u001b[39m \u001b[38;5;129;01min\u001b[39;00m errors:\n\u001b[0;32m    189\u001b[0m     warn(errors, X13Warning)\n",
      "\u001b[1;31mX13Error\u001b[0m: ERROR: Series to be modelled and/or seasonally adjusted must have at\n        least 3 complete years of data.\n  \n  No seasonal adjustment this run"
     ]
    }
   ],
   "source": [
    "import pandas as pd\n",
    "from statsmodels.tsa.x13 import x13_arima_analysis\n",
    "\n",
    "# Strip leading/trailing whitespaces from column names\n",
    "yoy.columns = yoy.columns.str.strip()\n",
    "\n",
    "# Convert the 'date' column to datetime format\n",
    "yoy['date'] = pd.to_datetime(yoy['date'])\n",
    "\n",
    "# Create a new index with monthly frequency for yearly data\n",
    "yoy.index = pd.date_range(start=yoy['date'].min(), periods=len(yoy), freq='MS')\n",
    "\n",
    "# Convert the 'Date' column to datetime format\n",
    "monthly_data['Date'] = pd.to_datetime(monthly_data['Date'])\n",
    "\n",
    "# Create a new index with monthly frequency for monthly data\n",
    "monthly_data.index = pd.date_range(start=monthly_data['Date'].min(), periods=len(monthly_data), freq='MS')\n",
    "\n",
    "# Ensure that the data covers at least 3 complete years\n",
    "if len(yoy) < 3:\n",
    "    raise ValueError(\"Yearly data must cover at least 3 complete years\")\n",
    "\n",
    "if len(monthly_data) < 36:\n",
    "    raise ValueError(\"Monthly data must cover at least 3 complete years\")\n",
    "\n",
    "# Apply X-12-ARIMA to the yearly data\n",
    "result_yearly = x13_arima_analysis(yoy['Unemployment Rate (%)'], x12path=\"C:\\\\Users\\\\91978\\\\Desktop\\\\inflation_prediction_project\\\\Time_Sereis_models\\\\x12a.exe\")\n",
    "\n",
    "# Get the seasonal adjusted data for yearly data\n",
    "seasonal_adjusted_yearly = result_yearly.seasadj\n",
    "\n",
    "# Apply X-12-ARIMA to the monthly data\n",
    "result_monthly = x13_arima_analysis(monthly_data['Unemployment Rate (%)'], x12path=\"C:\\\\Users\\\\91978\\\\Desktop\\\\inflation_prediction_project\\\\Time_Sereis_models\\\\x12a.exe\")\n",
    "\n",
    "# Get the seasonal adjusted data for monthly data\n",
    "seasonal_adjusted_monthly = result_monthly.seasadj\n"
   ]
  },
  {
   "cell_type": "code",
   "execution_count": 274,
   "metadata": {},
   "outputs": [
    {
     "ename": "ValueError",
     "evalue": "Inferred frequency AS-DEC from passed values does not conform to passed frequency AS-JAN",
     "output_type": "error",
     "traceback": [
      "\u001b[1;31m---------------------------------------------------------------------------\u001b[0m",
      "\u001b[1;31mValueError\u001b[0m                                Traceback (most recent call last)",
      "File \u001b[1;32mc:\\Users\\91978\\anaconda3\\lib\\site-packages\\pandas\\core\\arrays\\datetimelike.py:2038\u001b[0m, in \u001b[0;36mTimelikeOps._validate_frequency\u001b[1;34m(cls, index, freq, **kwargs)\u001b[0m\n\u001b[0;32m   2037\u001b[0m     \u001b[38;5;28;01mif\u001b[39;00m \u001b[38;5;129;01mnot\u001b[39;00m np\u001b[38;5;241m.\u001b[39marray_equal(index\u001b[38;5;241m.\u001b[39masi8, on_freq\u001b[38;5;241m.\u001b[39masi8):\n\u001b[1;32m-> 2038\u001b[0m         \u001b[38;5;28;01mraise\u001b[39;00m \u001b[38;5;167;01mValueError\u001b[39;00m\n\u001b[0;32m   2039\u001b[0m \u001b[38;5;28;01mexcept\u001b[39;00m \u001b[38;5;167;01mValueError\u001b[39;00m \u001b[38;5;28;01mas\u001b[39;00m err:\n",
      "\u001b[1;31mValueError\u001b[0m: ",
      "\nThe above exception was the direct cause of the following exception:\n",
      "\u001b[1;31mValueError\u001b[0m                                Traceback (most recent call last)",
      "Cell \u001b[1;32mIn[274], line 11\u001b[0m\n\u001b[0;32m      8\u001b[0m yoy\u001b[38;5;241m.\u001b[39mset_index(\u001b[38;5;124m'\u001b[39m\u001b[38;5;124mdate\u001b[39m\u001b[38;5;124m'\u001b[39m, inplace\u001b[38;5;241m=\u001b[39m\u001b[38;5;28;01mTrue\u001b[39;00m)\n\u001b[0;32m     10\u001b[0m \u001b[38;5;66;03m# Set the frequency of the index to 'AS' (Year Start)\u001b[39;00m\n\u001b[1;32m---> 11\u001b[0m yoy\u001b[38;5;241m.\u001b[39mindex\u001b[38;5;241m.\u001b[39mfreq \u001b[38;5;241m=\u001b[39m \u001b[38;5;124m'\u001b[39m\u001b[38;5;124mAS\u001b[39m\u001b[38;5;124m'\u001b[39m\n\u001b[0;32m     13\u001b[0m \u001b[38;5;66;03m# Ensure there are at least 3 complete years of data\u001b[39;00m\n\u001b[0;32m     14\u001b[0m \u001b[38;5;28;01mif\u001b[39;00m \u001b[38;5;28mlen\u001b[39m(yoy) \u001b[38;5;241m<\u001b[39m \u001b[38;5;241m3\u001b[39m:\n",
      "File \u001b[1;32mc:\\Users\\91978\\anaconda3\\lib\\site-packages\\pandas\\core\\indexes\\datetimelike.py:103\u001b[0m, in \u001b[0;36mDatetimeIndexOpsMixin.freq\u001b[1;34m(self, value)\u001b[0m\n\u001b[0;32m    100\u001b[0m \u001b[38;5;129m@freq\u001b[39m\u001b[38;5;241m.\u001b[39msetter\n\u001b[0;32m    101\u001b[0m \u001b[38;5;28;01mdef\u001b[39;00m \u001b[38;5;21mfreq\u001b[39m(\u001b[38;5;28mself\u001b[39m, value) \u001b[38;5;241m-\u001b[39m\u001b[38;5;241m>\u001b[39m \u001b[38;5;28;01mNone\u001b[39;00m:\n\u001b[0;32m    102\u001b[0m     \u001b[38;5;66;03m# error: Property \"freq\" defined in \"PeriodArray\" is read-only  [misc]\u001b[39;00m\n\u001b[1;32m--> 103\u001b[0m     \u001b[38;5;28mself\u001b[39m\u001b[38;5;241m.\u001b[39m_data\u001b[38;5;241m.\u001b[39mfreq \u001b[38;5;241m=\u001b[39m value\n",
      "File \u001b[1;32mc:\\Users\\91978\\anaconda3\\lib\\site-packages\\pandas\\core\\arrays\\datetimelike.py:2002\u001b[0m, in \u001b[0;36mTimelikeOps.freq\u001b[1;34m(self, value)\u001b[0m\n\u001b[0;32m   2000\u001b[0m \u001b[38;5;28;01mif\u001b[39;00m value \u001b[38;5;129;01mis\u001b[39;00m \u001b[38;5;129;01mnot\u001b[39;00m \u001b[38;5;28;01mNone\u001b[39;00m:\n\u001b[0;32m   2001\u001b[0m     value \u001b[38;5;241m=\u001b[39m to_offset(value)\n\u001b[1;32m-> 2002\u001b[0m     \u001b[38;5;28;43mself\u001b[39;49m\u001b[38;5;241;43m.\u001b[39;49m\u001b[43m_validate_frequency\u001b[49m\u001b[43m(\u001b[49m\u001b[38;5;28;43mself\u001b[39;49m\u001b[43m,\u001b[49m\u001b[43m \u001b[49m\u001b[43mvalue\u001b[49m\u001b[43m)\u001b[49m\n\u001b[0;32m   2003\u001b[0m     \u001b[38;5;28;01mif\u001b[39;00m \u001b[38;5;28mself\u001b[39m\u001b[38;5;241m.\u001b[39mdtype\u001b[38;5;241m.\u001b[39mkind \u001b[38;5;241m==\u001b[39m \u001b[38;5;124m\"\u001b[39m\u001b[38;5;124mm\u001b[39m\u001b[38;5;124m\"\u001b[39m \u001b[38;5;129;01mand\u001b[39;00m \u001b[38;5;129;01mnot\u001b[39;00m \u001b[38;5;28misinstance\u001b[39m(value, Tick):\n\u001b[0;32m   2004\u001b[0m         \u001b[38;5;28;01mraise\u001b[39;00m \u001b[38;5;167;01mTypeError\u001b[39;00m(\u001b[38;5;124m\"\u001b[39m\u001b[38;5;124mTimedeltaArray/Index freq must be a Tick\u001b[39m\u001b[38;5;124m\"\u001b[39m)\n",
      "File \u001b[1;32mc:\\Users\\91978\\anaconda3\\lib\\site-packages\\pandas\\core\\arrays\\datetimelike.py:2049\u001b[0m, in \u001b[0;36mTimelikeOps._validate_frequency\u001b[1;34m(cls, index, freq, **kwargs)\u001b[0m\n\u001b[0;32m   2043\u001b[0m     \u001b[38;5;28;01mraise\u001b[39;00m err\n\u001b[0;32m   2044\u001b[0m \u001b[38;5;66;03m# GH#11587 the main way this is reached is if the `np.array_equal`\u001b[39;00m\n\u001b[0;32m   2045\u001b[0m \u001b[38;5;66;03m#  check above is False.  This can also be reached if index[0]\u001b[39;00m\n\u001b[0;32m   2046\u001b[0m \u001b[38;5;66;03m#  is `NaT`, in which case the call to `cls._generate_range` will\u001b[39;00m\n\u001b[0;32m   2047\u001b[0m \u001b[38;5;66;03m#  raise a ValueError, which we re-raise with a more targeted\u001b[39;00m\n\u001b[0;32m   2048\u001b[0m \u001b[38;5;66;03m#  message.\u001b[39;00m\n\u001b[1;32m-> 2049\u001b[0m \u001b[38;5;28;01mraise\u001b[39;00m \u001b[38;5;167;01mValueError\u001b[39;00m(\n\u001b[0;32m   2050\u001b[0m     \u001b[38;5;124mf\u001b[39m\u001b[38;5;124m\"\u001b[39m\u001b[38;5;124mInferred frequency \u001b[39m\u001b[38;5;132;01m{\u001b[39;00minferred\u001b[38;5;132;01m}\u001b[39;00m\u001b[38;5;124m from passed values \u001b[39m\u001b[38;5;124m\"\u001b[39m\n\u001b[0;32m   2051\u001b[0m     \u001b[38;5;124mf\u001b[39m\u001b[38;5;124m\"\u001b[39m\u001b[38;5;124mdoes not conform to passed frequency \u001b[39m\u001b[38;5;132;01m{\u001b[39;00mfreq\u001b[38;5;241m.\u001b[39mfreqstr\u001b[38;5;132;01m}\u001b[39;00m\u001b[38;5;124m\"\u001b[39m\n\u001b[0;32m   2052\u001b[0m ) \u001b[38;5;28;01mfrom\u001b[39;00m \u001b[38;5;21;01merr\u001b[39;00m\n",
      "\u001b[1;31mValueError\u001b[0m: Inferred frequency AS-DEC from passed values does not conform to passed frequency AS-JAN"
     ]
    }
   ],
   "source": [
    "import pandas as pd\n",
    "from statsmodels.tsa.x13 import x13_arima_analysis\n",
    "\n",
    "# Convert the 'date' column to datetime format\n",
    "yoy['date'] = pd.to_datetime(yoy['date'])\n",
    "\n",
    "# Ensure the index is set to 'date'\n",
    "yoy.set_index('date', inplace=True)\n",
    "\n",
    "# Set the frequency of the index to 'AS' (Year Start)\n",
    "yoy.index.freq = 'AS'\n",
    "\n",
    "# Ensure there are at least 3 complete years of data\n",
    "if len(yoy) < 3:\n",
    "    raise ValueError(\"Yearly data must cover at least 3 complete years\")\n",
    "\n",
    "# Apply X-13 ARIMA-SEATS to the yearly data\n",
    "result_yearly = x13_arima_analysis(yoy['Unemployment Rate (%)'], x12path=\"C:\\\\Users\\\\91978\\\\Desktop\\\\inflation_prediction_project\\\\Time_Sereis_models\\\\x12a.exe\")\n",
    "\n",
    "# Get the seasonal adjusted data for yearly data\n",
    "seasonal_adjusted_yearly = result_yearly.seasadj\n"
   ]
  },
  {
   "cell_type": "code",
   "execution_count": 361,
   "metadata": {},
   "outputs": [],
   "source": [
    "yoy=pd.read_excel('C:\\\\Users\\\\91978\\\\Desktop\\\\inflation_prediction_project\\\\yoy_unemployment_rate.xlsx')\n",
    "monthly_data=pd.read_excel('C:\\\\Users\\\\91978\\\\Desktop\\\\inflation_prediction_project\\\\excel_files\\\\unemployment_monthly.xlsx')\n",
    "\n",
    "\n"
   ]
  },
  {
   "cell_type": "code",
   "execution_count": 362,
   "metadata": {},
   "outputs": [
    {
     "name": "stdout",
     "output_type": "stream",
     "text": [
      "        Date  Unemployment Rate (%)\n",
      "0 2016-04-01                    8.9\n",
      "1 2016-05-01                    9.7\n",
      "2 2016-06-01                    8.9\n",
      "3 2016-07-01                    8.5\n",
      "4 2016-08-01                    9.6\n",
      "Index(['date', ' Unemployment Rate (%)', ' Annual Change', ' '], dtype='object')\n"
     ]
    }
   ],
   "source": [
    "import pandas as pd\n",
    "\n",
    "\n",
    "\n",
    "# Convert the 'Date' column to datetime format\n",
    "monthly_data['Date'] = pd.to_datetime(monthly_data['Date'], format='%m/%Y')\n",
    "\n",
    "# Sort the dataframe by date\n",
    "monthly_data.sort_values('Date', inplace=True)\n",
    "\n",
    "# Display the first few rows of the dataframe\n",
    "print(monthly_data.head())\n",
    "\n",
    "# Now you can proceed with the X-13 ARIMA analysis using the 'Date' and 'Unemployment Rate (%)' columns.\n",
    "print(yoy.columns)"
   ]
  },
  {
   "cell_type": "code",
   "execution_count": 363,
   "metadata": {},
   "outputs": [
    {
     "name": "stdout",
     "output_type": "stream",
     "text": [
      "0     0\n",
      "1     1\n",
      "2     0\n",
      "3     0\n",
      "4     0\n",
      "     ..\n",
      "76    0\n",
      "77    1\n",
      "78    0\n",
      "79    0\n",
      "80    0\n",
      "Length: 81, dtype: int64\n",
      "Index(['date', ' Unemployment Rate (%)', ' Annual Change', ' '], dtype='object')\n"
     ]
    }
   ],
   "source": [
    "outlier_months = [1, 5, 9]\n",
    "\n",
    "# Extract the 'Date' column from the DataFrame\n",
    "dates = pd.to_datetime(monthly_data['Date'])\n",
    "\n",
    "# Initialize the outlier series with zeros\n",
    "outliers_series = pd.Series(0, index=monthly_data.index)\n",
    "\n",
    "# Set outliers to 1 for the specified months\n",
    "outliers_series.loc[dates.dt.month.isin(outlier_months)] = 1\n",
    "\n",
    "print(outliers_series)\n",
    "print(yoy.columns)"
   ]
  },
  {
   "cell_type": "code",
   "execution_count": 365,
   "metadata": {},
   "outputs": [
    {
     "name": "stdout",
     "output_type": "stream",
     "text": [
      "Error: Yearly data must cover at least 3 complete years.\n"
     ]
    },
    {
     "ename": "TypeError",
     "evalue": "cannot infer freq from a non-convertible index of dtype int64",
     "output_type": "error",
     "traceback": [
      "\u001b[1;31m---------------------------------------------------------------------------\u001b[0m",
      "\u001b[1;31mAttributeError\u001b[0m                            Traceback (most recent call last)",
      "File \u001b[1;32mc:\\Users\\91978\\anaconda3\\lib\\site-packages\\statsmodels\\tsa\\x13.py:297\u001b[0m, in \u001b[0;36mpandas_to_series_spec\u001b[1;34m(x)\u001b[0m\n\u001b[0;32m    296\u001b[0m \u001b[38;5;28;01mtry\u001b[39;00m:\n\u001b[1;32m--> 297\u001b[0m     period \u001b[38;5;241m=\u001b[39m _freq_to_period[\u001b[43mx\u001b[49m\u001b[38;5;241;43m.\u001b[39;49m\u001b[43mindex\u001b[49m\u001b[38;5;241;43m.\u001b[39;49m\u001b[43mfreqstr\u001b[49m]\n\u001b[0;32m    298\u001b[0m \u001b[38;5;28;01mexcept\u001b[39;00m (\u001b[38;5;167;01mAttributeError\u001b[39;00m, \u001b[38;5;167;01mValueError\u001b[39;00m):\n",
      "\u001b[1;31mAttributeError\u001b[0m: 'RangeIndex' object has no attribute 'freqstr'",
      "\nDuring handling of the above exception, another exception occurred:\n",
      "\u001b[1;31mTypeError\u001b[0m                                 Traceback (most recent call last)",
      "Cell \u001b[1;32mIn[365], line 45\u001b[0m\n\u001b[0;32m     42\u001b[0m     \u001b[38;5;28mprint\u001b[39m(\u001b[38;5;124m\"\u001b[39m\u001b[38;5;124mError: Yearly data must cover at least 3 complete years.\u001b[39m\u001b[38;5;124m\"\u001b[39m)\n\u001b[0;32m     44\u001b[0m \u001b[38;5;66;03m# Apply X-12-ARIMA to the monthly data\u001b[39;00m\n\u001b[1;32m---> 45\u001b[0m result_monthly \u001b[38;5;241m=\u001b[39m \u001b[43mx13_arima_analysis\u001b[49m\u001b[43m(\u001b[49m\u001b[43mmonthly_data_filtered\u001b[49m\u001b[43m[\u001b[49m\u001b[38;5;124;43m'\u001b[39;49m\u001b[38;5;124;43mUnemployment Rate (\u001b[39;49m\u001b[38;5;124;43m%\u001b[39;49m\u001b[38;5;124;43m)\u001b[39;49m\u001b[38;5;124;43m'\u001b[39;49m\u001b[43m]\u001b[49m\u001b[43m,\u001b[49m\u001b[43m \u001b[49m\u001b[43mx12path\u001b[49m\u001b[38;5;241;43m=\u001b[39;49m\u001b[38;5;124;43m\"\u001b[39;49m\u001b[38;5;124;43mC:\u001b[39;49m\u001b[38;5;130;43;01m\\\\\u001b[39;49;00m\u001b[38;5;124;43mUsers\u001b[39;49m\u001b[38;5;130;43;01m\\\\\u001b[39;49;00m\u001b[38;5;124;43m91978\u001b[39;49m\u001b[38;5;130;43;01m\\\\\u001b[39;49;00m\u001b[38;5;124;43mDesktop\u001b[39;49m\u001b[38;5;130;43;01m\\\\\u001b[39;49;00m\u001b[38;5;124;43minflation_prediction_project\u001b[39;49m\u001b[38;5;130;43;01m\\\\\u001b[39;49;00m\u001b[38;5;124;43mTime_Sereis_models\u001b[39;49m\u001b[38;5;130;43;01m\\\\\u001b[39;49;00m\u001b[38;5;124;43mx12a.exe\u001b[39;49m\u001b[38;5;124;43m\"\u001b[39;49m\u001b[43m)\u001b[49m\n\u001b[0;32m     46\u001b[0m seasonal_adjusted_monthly \u001b[38;5;241m=\u001b[39m result_monthly\u001b[38;5;241m.\u001b[39mseasadj\n",
      "File \u001b[1;32mc:\\Users\\91978\\anaconda3\\lib\\site-packages\\pandas\\util\\_decorators.py:213\u001b[0m, in \u001b[0;36mdeprecate_kwarg.<locals>._deprecate_kwarg.<locals>.wrapper\u001b[1;34m(*args, **kwargs)\u001b[0m\n\u001b[0;32m    211\u001b[0m         \u001b[38;5;28;01mraise\u001b[39;00m \u001b[38;5;167;01mTypeError\u001b[39;00m(msg)\n\u001b[0;32m    212\u001b[0m     kwargs[new_arg_name] \u001b[38;5;241m=\u001b[39m new_arg_value\n\u001b[1;32m--> 213\u001b[0m \u001b[38;5;28;01mreturn\u001b[39;00m func(\u001b[38;5;241m*\u001b[39margs, \u001b[38;5;241m*\u001b[39m\u001b[38;5;241m*\u001b[39mkwargs)\n",
      "File \u001b[1;32mc:\\Users\\91978\\anaconda3\\lib\\site-packages\\statsmodels\\tsa\\x13.py:428\u001b[0m, in \u001b[0;36mx13_arima_analysis\u001b[1;34m(endog, maxorder, maxdiff, diff, exog, log, outlier, trading, forecast_periods, retspec, speconly, start, freq, print_stdout, x12path, prefer_x13, tempdir)\u001b[0m\n\u001b[0;32m    423\u001b[0m         \u001b[38;5;28;01mraise\u001b[39;00m \u001b[38;5;167;01mValueError\u001b[39;00m(\u001b[38;5;124m\"\u001b[39m\u001b[38;5;124mstart and freq cannot be none if endog is not \u001b[39m\u001b[38;5;124m\"\u001b[39m\n\u001b[0;32m    424\u001b[0m                          \u001b[38;5;124m\"\u001b[39m\u001b[38;5;124ma pandas object\u001b[39m\u001b[38;5;124m\"\u001b[39m)\n\u001b[0;32m    425\u001b[0m     endog \u001b[38;5;241m=\u001b[39m pd\u001b[38;5;241m.\u001b[39mSeries(endog, index\u001b[38;5;241m=\u001b[39mpd\u001b[38;5;241m.\u001b[39mDatetimeIndex(start\u001b[38;5;241m=\u001b[39mstart,\n\u001b[0;32m    426\u001b[0m                                                     periods\u001b[38;5;241m=\u001b[39m\u001b[38;5;28mlen\u001b[39m(endog),\n\u001b[0;32m    427\u001b[0m                                                     freq\u001b[38;5;241m=\u001b[39mfreq))\n\u001b[1;32m--> 428\u001b[0m spec_obj \u001b[38;5;241m=\u001b[39m \u001b[43mpandas_to_series_spec\u001b[49m\u001b[43m(\u001b[49m\u001b[43mendog\u001b[49m\u001b[43m)\u001b[49m\n\u001b[0;32m    429\u001b[0m spec \u001b[38;5;241m=\u001b[39m spec_obj\u001b[38;5;241m.\u001b[39mcreate_spec()\n\u001b[0;32m    430\u001b[0m spec \u001b[38;5;241m+\u001b[39m\u001b[38;5;241m=\u001b[39m \u001b[38;5;124m\"\u001b[39m\u001b[38;5;124mtransform\u001b[39m\u001b[38;5;124m{{\u001b[39m\u001b[38;5;124mfunction=\u001b[39m\u001b[38;5;132;01m{0}\u001b[39;00m\u001b[38;5;124m}}\u001b[39m\u001b[38;5;130;01m\\n\u001b[39;00m\u001b[38;5;124m\"\u001b[39m\u001b[38;5;241m.\u001b[39mformat(_log_to_x12[log])\n",
      "File \u001b[1;32mc:\\Users\\91978\\anaconda3\\lib\\site-packages\\statsmodels\\tsa\\x13.py:300\u001b[0m, in \u001b[0;36mpandas_to_series_spec\u001b[1;34m(x)\u001b[0m\n\u001b[0;32m    298\u001b[0m \u001b[38;5;28;01mexcept\u001b[39;00m (\u001b[38;5;167;01mAttributeError\u001b[39;00m, \u001b[38;5;167;01mValueError\u001b[39;00m):\n\u001b[0;32m    299\u001b[0m     \u001b[38;5;28;01mfrom\u001b[39;00m \u001b[38;5;21;01mpandas\u001b[39;00m\u001b[38;5;21;01m.\u001b[39;00m\u001b[38;5;21;01mtseries\u001b[39;00m\u001b[38;5;21;01m.\u001b[39;00m\u001b[38;5;21;01mapi\u001b[39;00m \u001b[38;5;28;01mimport\u001b[39;00m infer_freq\n\u001b[1;32m--> 300\u001b[0m     period \u001b[38;5;241m=\u001b[39m _freq_to_period[\u001b[43minfer_freq\u001b[49m\u001b[43m(\u001b[49m\u001b[43mx\u001b[49m\u001b[38;5;241;43m.\u001b[39;49m\u001b[43mindex\u001b[49m\u001b[43m)\u001b[49m]\n\u001b[0;32m    301\u001b[0m start_date \u001b[38;5;241m=\u001b[39m x\u001b[38;5;241m.\u001b[39mindex[\u001b[38;5;241m0\u001b[39m]\n\u001b[0;32m    302\u001b[0m \u001b[38;5;28;01mif\u001b[39;00m period \u001b[38;5;241m==\u001b[39m \u001b[38;5;241m12\u001b[39m:\n",
      "File \u001b[1;32mc:\\Users\\91978\\anaconda3\\lib\\site-packages\\pandas\\tseries\\frequencies.py:173\u001b[0m, in \u001b[0;36minfer_freq\u001b[1;34m(index)\u001b[0m\n\u001b[0;32m    170\u001b[0m     \u001b[38;5;28;01mreturn\u001b[39;00m inferer\u001b[38;5;241m.\u001b[39mget_freq()\n\u001b[0;32m    172\u001b[0m \u001b[38;5;28;01melif\u001b[39;00m is_numeric_dtype(index\u001b[38;5;241m.\u001b[39mdtype):\n\u001b[1;32m--> 173\u001b[0m     \u001b[38;5;28;01mraise\u001b[39;00m \u001b[38;5;167;01mTypeError\u001b[39;00m(\n\u001b[0;32m    174\u001b[0m         \u001b[38;5;124mf\u001b[39m\u001b[38;5;124m\"\u001b[39m\u001b[38;5;124mcannot infer freq from a non-convertible index of dtype \u001b[39m\u001b[38;5;132;01m{\u001b[39;00mindex\u001b[38;5;241m.\u001b[39mdtype\u001b[38;5;132;01m}\u001b[39;00m\u001b[38;5;124m\"\u001b[39m\n\u001b[0;32m    175\u001b[0m     )\n\u001b[0;32m    177\u001b[0m \u001b[38;5;28;01mif\u001b[39;00m \u001b[38;5;129;01mnot\u001b[39;00m \u001b[38;5;28misinstance\u001b[39m(index, DatetimeIndex):\n\u001b[0;32m    178\u001b[0m     index \u001b[38;5;241m=\u001b[39m DatetimeIndex(index)\n",
      "\u001b[1;31mTypeError\u001b[0m: cannot infer freq from a non-convertible index of dtype int64"
     ]
    }
   ],
   "source": [
    "import pandas as pd\n",
    "from statsmodels.tsa.x13 import x13_arima_analysis\n",
    "\n",
    "# Assuming 'yoy' contains yearly data and 'monthly_data' contains monthly data\n",
    "\n",
    "# Ensure that the column names have no leading/trailing whitespaces\n",
    "yoy.columns = yoy.columns.str.strip()\n",
    "\n",
    "# Convert the 'date' column in yearly data to datetime format\n",
    "yoy.index = pd.to_datetime(yoy.index)\n",
    "\n",
    "# Filter the monthly data to include only observations from April 2016 to December 2022\n",
    "# If you want monthly data from 1991, remove the filtering\n",
    "monthly_data_filtered = monthly_data.loc['1991-01-01':'2022-12-31']\n",
    "\n",
    "# Apply X-12-ARIMA to the yearly data if it covers at least 3 complete years\n",
    "if len(yoy.index.year.unique()) >= 3:\n",
    "    # Resample yearly data to quarterly frequency\n",
    "    yoy_quarterly = yoy.resample('Q').mean()['Unemployment Rate (%)']\n",
    "    # Fill missing values using forward fill\n",
    "    yoy_quarterly = yoy_quarterly.fillna(method='ffill')\n",
    "    # Check for missing values\n",
    "    if yoy_quarterly.isnull().sum() > 0:\n",
    "        print(\"Warning: Missing values detected in yoy_quarterly data.\")\n",
    "    \n",
    "    # Specify the series name and other relevant information\n",
    "    yoy_quarterly.name = 'Unemployment Rate (%)'\n",
    "    yoy_quarterly.attrs['description'] = 'Quarterly Unemployment Rate'\n",
    "    # Initialize the outlier series with zeros\n",
    "    outliers_series = pd.Series(0, index=yoy_quarterly.index)\n",
    "    # Set outliers to 1 for the specified months\n",
    "    outlier_months = [1, 5, 9]\n",
    "    outliers_series.loc[yoy_quarterly.index.month.isin(outlier_months)] = 1\n",
    "    # Apply outlier adjustment to the series\n",
    "    yoy_quarterly = yoy_quarterly.copy()\n",
    "    yoy_quarterly.attrs['outlier'] = outliers_series\n",
    "    \n",
    "    # Apply X-12-ARIMA to the yearly data\n",
    "    result_yearly = x13_arima_analysis(yoy_quarterly, x12path=\"C:\\\\Users\\\\91978\\\\Desktop\\\\inflation_prediction_project\\\\Time_Sereis_models\\\\x12a.exe\")\n",
    "    seasonal_adjusted_yearly = result_yearly.seasadj\n",
    "else:\n",
    "    print(\"Error: Yearly data must cover at least 3 complete years.\")\n",
    "\n",
    "# Apply X-12-ARIMA to the monthly data\n",
    "result_monthly = x13_arima_analysis(monthly_data_filtered['Unemployment Rate (%)'], x12path=\"C:\\\\Users\\\\91978\\\\Desktop\\\\inflation_prediction_project\\\\Time_Sereis_models\\\\x12a.exe\")\n",
    "seasonal_adjusted_monthly = result_monthly.seasadj\n"
   ]
  },
  {
   "cell_type": "code",
   "execution_count": null,
   "metadata": {},
   "outputs": [],
   "source": []
  },
  {
   "cell_type": "code",
   "execution_count": 334,
   "metadata": {},
   "outputs": [
    {
     "data": {
      "text/plain": [
       "Index(['Unemployment Rate (%)', 'Annual Change', ''], dtype='object')"
      ]
     },
     "execution_count": 334,
     "metadata": {},
     "output_type": "execute_result"
    }
   ],
   "source": [
    "yoy.columns"
   ]
  },
  {
   "cell_type": "code",
   "execution_count": null,
   "metadata": {},
   "outputs": [],
   "source": []
  },
  {
   "cell_type": "code",
   "execution_count": null,
   "metadata": {},
   "outputs": [],
   "source": []
  }
 ],
 "metadata": {
  "kernelspec": {
   "display_name": "base",
   "language": "python",
   "name": "python3"
  },
  "language_info": {
   "codemirror_mode": {
    "name": "ipython",
    "version": 3
   },
   "file_extension": ".py",
   "mimetype": "text/x-python",
   "name": "python",
   "nbconvert_exporter": "python",
   "pygments_lexer": "ipython3",
   "version": "3.10.13"
  }
 },
 "nbformat": 4,
 "nbformat_minor": 2
}
