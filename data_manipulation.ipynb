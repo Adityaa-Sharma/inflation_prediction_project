{
 "cells": [
  {
   "cell_type": "code",
   "execution_count": 378,
   "metadata": {},
   "outputs": [
    {
     "ename": "FileNotFoundError",
     "evalue": "[Errno 2] No such file or directory: 'excel_files//gdp_changeqtr_change.xlsx'",
     "output_type": "error",
     "traceback": [
      "\u001b[1;31m---------------------------------------------------------------------------\u001b[0m",
      "\u001b[1;31mFileNotFoundError\u001b[0m                         Traceback (most recent call last)",
      "Cell \u001b[1;32mIn[378], line 3\u001b[0m\n\u001b[0;32m      1\u001b[0m \u001b[38;5;28;01mimport\u001b[39;00m \u001b[38;5;21;01mpandas\u001b[39;00m \u001b[38;5;28;01mas\u001b[39;00m \u001b[38;5;21;01mpd\u001b[39;00m\n\u001b[0;32m      2\u001b[0m \u001b[38;5;28;01mimport\u001b[39;00m \u001b[38;5;21;01mnumpy\u001b[39;00m \u001b[38;5;28;01mas\u001b[39;00m \u001b[38;5;21;01mnp\u001b[39;00m\n\u001b[1;32m----> 3\u001b[0m gdp_data\u001b[38;5;241m=\u001b[39m\u001b[43mpd\u001b[49m\u001b[38;5;241;43m.\u001b[39;49m\u001b[43mread_excel\u001b[49m\u001b[43m(\u001b[49m\u001b[38;5;124;43m\"\u001b[39;49m\u001b[38;5;124;43mexcel_files//gdp_changeqtr_change.xlsx\u001b[39;49m\u001b[38;5;124;43m\"\u001b[39;49m\u001b[43m)\u001b[49m\n\u001b[0;32m      5\u001b[0m gdp_data\u001b[38;5;241m.\u001b[39mhead()\n",
      "File \u001b[1;32mc:\\Users\\91978\\anaconda3\\lib\\site-packages\\pandas\\io\\excel\\_base.py:504\u001b[0m, in \u001b[0;36mread_excel\u001b[1;34m(io, sheet_name, header, names, index_col, usecols, dtype, engine, converters, true_values, false_values, skiprows, nrows, na_values, keep_default_na, na_filter, verbose, parse_dates, date_parser, date_format, thousands, decimal, comment, skipfooter, storage_options, dtype_backend, engine_kwargs)\u001b[0m\n\u001b[0;32m    502\u001b[0m \u001b[38;5;28;01mif\u001b[39;00m \u001b[38;5;129;01mnot\u001b[39;00m \u001b[38;5;28misinstance\u001b[39m(io, ExcelFile):\n\u001b[0;32m    503\u001b[0m     should_close \u001b[38;5;241m=\u001b[39m \u001b[38;5;28;01mTrue\u001b[39;00m\n\u001b[1;32m--> 504\u001b[0m     io \u001b[38;5;241m=\u001b[39m \u001b[43mExcelFile\u001b[49m\u001b[43m(\u001b[49m\n\u001b[0;32m    505\u001b[0m \u001b[43m        \u001b[49m\u001b[43mio\u001b[49m\u001b[43m,\u001b[49m\n\u001b[0;32m    506\u001b[0m \u001b[43m        \u001b[49m\u001b[43mstorage_options\u001b[49m\u001b[38;5;241;43m=\u001b[39;49m\u001b[43mstorage_options\u001b[49m\u001b[43m,\u001b[49m\n\u001b[0;32m    507\u001b[0m \u001b[43m        \u001b[49m\u001b[43mengine\u001b[49m\u001b[38;5;241;43m=\u001b[39;49m\u001b[43mengine\u001b[49m\u001b[43m,\u001b[49m\n\u001b[0;32m    508\u001b[0m \u001b[43m        \u001b[49m\u001b[43mengine_kwargs\u001b[49m\u001b[38;5;241;43m=\u001b[39;49m\u001b[43mengine_kwargs\u001b[49m\u001b[43m,\u001b[49m\n\u001b[0;32m    509\u001b[0m \u001b[43m    \u001b[49m\u001b[43m)\u001b[49m\n\u001b[0;32m    510\u001b[0m \u001b[38;5;28;01melif\u001b[39;00m engine \u001b[38;5;129;01mand\u001b[39;00m engine \u001b[38;5;241m!=\u001b[39m io\u001b[38;5;241m.\u001b[39mengine:\n\u001b[0;32m    511\u001b[0m     \u001b[38;5;28;01mraise\u001b[39;00m \u001b[38;5;167;01mValueError\u001b[39;00m(\n\u001b[0;32m    512\u001b[0m         \u001b[38;5;124m\"\u001b[39m\u001b[38;5;124mEngine should not be specified when passing \u001b[39m\u001b[38;5;124m\"\u001b[39m\n\u001b[0;32m    513\u001b[0m         \u001b[38;5;124m\"\u001b[39m\u001b[38;5;124man ExcelFile - ExcelFile already has the engine set\u001b[39m\u001b[38;5;124m\"\u001b[39m\n\u001b[0;32m    514\u001b[0m     )\n",
      "File \u001b[1;32mc:\\Users\\91978\\anaconda3\\lib\\site-packages\\pandas\\io\\excel\\_base.py:1563\u001b[0m, in \u001b[0;36mExcelFile.__init__\u001b[1;34m(self, path_or_buffer, engine, storage_options, engine_kwargs)\u001b[0m\n\u001b[0;32m   1561\u001b[0m     ext \u001b[38;5;241m=\u001b[39m \u001b[38;5;124m\"\u001b[39m\u001b[38;5;124mxls\u001b[39m\u001b[38;5;124m\"\u001b[39m\n\u001b[0;32m   1562\u001b[0m \u001b[38;5;28;01melse\u001b[39;00m:\n\u001b[1;32m-> 1563\u001b[0m     ext \u001b[38;5;241m=\u001b[39m \u001b[43minspect_excel_format\u001b[49m\u001b[43m(\u001b[49m\n\u001b[0;32m   1564\u001b[0m \u001b[43m        \u001b[49m\u001b[43mcontent_or_path\u001b[49m\u001b[38;5;241;43m=\u001b[39;49m\u001b[43mpath_or_buffer\u001b[49m\u001b[43m,\u001b[49m\u001b[43m \u001b[49m\u001b[43mstorage_options\u001b[49m\u001b[38;5;241;43m=\u001b[39;49m\u001b[43mstorage_options\u001b[49m\n\u001b[0;32m   1565\u001b[0m \u001b[43m    \u001b[49m\u001b[43m)\u001b[49m\n\u001b[0;32m   1566\u001b[0m     \u001b[38;5;28;01mif\u001b[39;00m ext \u001b[38;5;129;01mis\u001b[39;00m \u001b[38;5;28;01mNone\u001b[39;00m:\n\u001b[0;32m   1567\u001b[0m         \u001b[38;5;28;01mraise\u001b[39;00m \u001b[38;5;167;01mValueError\u001b[39;00m(\n\u001b[0;32m   1568\u001b[0m             \u001b[38;5;124m\"\u001b[39m\u001b[38;5;124mExcel file format cannot be determined, you must specify \u001b[39m\u001b[38;5;124m\"\u001b[39m\n\u001b[0;32m   1569\u001b[0m             \u001b[38;5;124m\"\u001b[39m\u001b[38;5;124man engine manually.\u001b[39m\u001b[38;5;124m\"\u001b[39m\n\u001b[0;32m   1570\u001b[0m         )\n",
      "File \u001b[1;32mc:\\Users\\91978\\anaconda3\\lib\\site-packages\\pandas\\io\\excel\\_base.py:1419\u001b[0m, in \u001b[0;36minspect_excel_format\u001b[1;34m(content_or_path, storage_options)\u001b[0m\n\u001b[0;32m   1416\u001b[0m \u001b[38;5;28;01mif\u001b[39;00m \u001b[38;5;28misinstance\u001b[39m(content_or_path, \u001b[38;5;28mbytes\u001b[39m):\n\u001b[0;32m   1417\u001b[0m     content_or_path \u001b[38;5;241m=\u001b[39m BytesIO(content_or_path)\n\u001b[1;32m-> 1419\u001b[0m \u001b[38;5;28;01mwith\u001b[39;00m \u001b[43mget_handle\u001b[49m\u001b[43m(\u001b[49m\n\u001b[0;32m   1420\u001b[0m \u001b[43m    \u001b[49m\u001b[43mcontent_or_path\u001b[49m\u001b[43m,\u001b[49m\u001b[43m \u001b[49m\u001b[38;5;124;43m\"\u001b[39;49m\u001b[38;5;124;43mrb\u001b[39;49m\u001b[38;5;124;43m\"\u001b[39;49m\u001b[43m,\u001b[49m\u001b[43m \u001b[49m\u001b[43mstorage_options\u001b[49m\u001b[38;5;241;43m=\u001b[39;49m\u001b[43mstorage_options\u001b[49m\u001b[43m,\u001b[49m\u001b[43m \u001b[49m\u001b[43mis_text\u001b[49m\u001b[38;5;241;43m=\u001b[39;49m\u001b[38;5;28;43;01mFalse\u001b[39;49;00m\n\u001b[0;32m   1421\u001b[0m \u001b[43m\u001b[49m\u001b[43m)\u001b[49m \u001b[38;5;28;01mas\u001b[39;00m handle:\n\u001b[0;32m   1422\u001b[0m     stream \u001b[38;5;241m=\u001b[39m handle\u001b[38;5;241m.\u001b[39mhandle\n\u001b[0;32m   1423\u001b[0m     stream\u001b[38;5;241m.\u001b[39mseek(\u001b[38;5;241m0\u001b[39m)\n",
      "File \u001b[1;32mc:\\Users\\91978\\anaconda3\\lib\\site-packages\\pandas\\io\\common.py:872\u001b[0m, in \u001b[0;36mget_handle\u001b[1;34m(path_or_buf, mode, encoding, compression, memory_map, is_text, errors, storage_options)\u001b[0m\n\u001b[0;32m    863\u001b[0m         handle \u001b[38;5;241m=\u001b[39m \u001b[38;5;28mopen\u001b[39m(\n\u001b[0;32m    864\u001b[0m             handle,\n\u001b[0;32m    865\u001b[0m             ioargs\u001b[38;5;241m.\u001b[39mmode,\n\u001b[1;32m   (...)\u001b[0m\n\u001b[0;32m    868\u001b[0m             newline\u001b[38;5;241m=\u001b[39m\u001b[38;5;124m\"\u001b[39m\u001b[38;5;124m\"\u001b[39m,\n\u001b[0;32m    869\u001b[0m         )\n\u001b[0;32m    870\u001b[0m     \u001b[38;5;28;01melse\u001b[39;00m:\n\u001b[0;32m    871\u001b[0m         \u001b[38;5;66;03m# Binary mode\u001b[39;00m\n\u001b[1;32m--> 872\u001b[0m         handle \u001b[38;5;241m=\u001b[39m \u001b[38;5;28;43mopen\u001b[39;49m\u001b[43m(\u001b[49m\u001b[43mhandle\u001b[49m\u001b[43m,\u001b[49m\u001b[43m \u001b[49m\u001b[43mioargs\u001b[49m\u001b[38;5;241;43m.\u001b[39;49m\u001b[43mmode\u001b[49m\u001b[43m)\u001b[49m\n\u001b[0;32m    873\u001b[0m     handles\u001b[38;5;241m.\u001b[39mappend(handle)\n\u001b[0;32m    875\u001b[0m \u001b[38;5;66;03m# Convert BytesIO or file objects passed with an encoding\u001b[39;00m\n",
      "\u001b[1;31mFileNotFoundError\u001b[0m: [Errno 2] No such file or directory: 'excel_files//gdp_changeqtr_change.xlsx'"
     ]
    }
   ],
   "source": [
    "import pandas as pd\n",
    "import numpy as np\n",
    "gdp_data=pd.read_excel(\"excel_files//gdp_changeqtr_change.xlsx\")\n",
    "\n",
    "gdp_data.head()"
   ]
  },
  {
   "cell_type": "code",
   "execution_count": null,
   "metadata": {},
   "outputs": [],
   "source": [
    "def monthly_calculator(prev_gdp,next_gdp,curr_month, start_month):\n",
    "    change=(next_gdp-prev_gdp)/3\n",
    "    value=prev_gdp+(curr_month-start_month)*change\n",
    "    return value\n",
    "    "
   ]
  },
  {
   "cell_type": "code",
   "execution_count": null,
   "metadata": {},
   "outputs": [],
   "source": [
    "def monthly_converter(df):\n",
    "    i = 0\n",
    "    new_rows = []\n",
    "    while i < (len(df) - 1):\n",
    "        month = str(df['Quarter'][i])[6:10].strip()  # Remove leading/trailing whitespaces\n",
    "        yr = str(df['Quarter'][i])[1:5]\n",
    "        \n",
    "        gdp1 = df['GDP % Change'][i]\n",
    "        gdp2 = df['GDP % Change'][i+1]\n",
    "        \n",
    "        if month == 'Jan':\n",
    "            new_rows.append(['01/'+ yr , gdp1])\n",
    "            new_rows.append(['02/'+ yr, monthly_calculator(gdp1, gdp2, 2, 1)])\n",
    "            new_rows.append(['03/'+ yr, monthly_calculator(gdp1, gdp2, 3, 1)])\n",
    "        elif month == 'Apr':\n",
    "            new_rows.append(['04/'+ yr, gdp1])\n",
    "            new_rows.append(['05/'+ yr, monthly_calculator(gdp1, gdp2, 5, 4)])\n",
    "            new_rows.append(['06/'+ yr, monthly_calculator(gdp1, gdp2, 6, 4)])\n",
    "        elif month == 'July':\n",
    "            new_rows.append(['07/'+ yr, gdp1])\n",
    "            new_rows.append(['08/'+ yr, monthly_calculator(gdp1, gdp2, 8, 7)])\n",
    "            new_rows.append(['09/'+ yr, monthly_calculator(gdp1, gdp2, 9, 7)])\n",
    "        else:\n",
    "            new_rows.append(['10/'+ yr, gdp1])\n",
    "            new_rows.append(['11/'+ yr, monthly_calculator(gdp1, gdp2, 11, 10)])\n",
    "            new_rows.append(['12/' + yr, monthly_calculator(gdp1, gdp2, 12, 10)])\n",
    "        \n",
    "        \n",
    "        \n",
    "        i += 1\n",
    "    \n",
    "    \n",
    "    new_rows.append([df['Quarter'].iloc[-1], df['GDP % Change'].iloc[-1]])\n",
    "    \n",
    "   \n",
    "    new_df = pd.DataFrame(new_rows, columns=['Quarter', 'GDP % Change'])\n",
    "    \n",
    "\n",
    "    \n",
    "    return new_df\n"
   ]
  },
  {
   "cell_type": "code",
   "execution_count": null,
   "metadata": {},
   "outputs": [
    {
     "name": "stdout",
     "output_type": "stream",
     "text": [
      "    Quarter  GDP % Change\n",
      "0   07/1996      0.500000\n",
      "1   08/1996      0.866667\n",
      "2   09/1996      1.233333\n",
      "3   10/1996      1.600000\n",
      "4   11/1996      1.333333\n",
      "5   12/1996      1.066667\n",
      "6   01/1997      0.800000\n",
      "7   02/1997      0.666667\n",
      "8   03/1997      0.533333\n",
      "9   04/1997      0.400000\n",
      "10  05/1997      0.666667\n",
      "11  06/1997      0.933333\n",
      "12  07/1997      1.200000\n",
      "13  08/1997      1.333333\n",
      "14  09/1997      1.466667\n",
      "15  10/1997      1.600000\n",
      "16  11/1997      1.600000\n",
      "17  12/1997      1.600000\n",
      "18  01/1998      1.600000\n",
      "19  02/1998      1.500000\n"
     ]
    }
   ],
   "source": [
    "monthly_data=monthly_converter(gdp_data)\n",
    "print(monthly_data.head(20))"
   ]
  },
  {
   "cell_type": "code",
   "execution_count": null,
   "metadata": {},
   "outputs": [],
   "source": [
    "\n",
    "monthly_data.to_excel('monthly_gdp_data1.xlsx', index=False)\n"
   ]
  },
  {
   "cell_type": "code",
   "execution_count": null,
   "metadata": {},
   "outputs": [],
   "source": [
    "import os\n",
    "import pandas as pd\n",
    "\n",
    "# Set the directory where the Excel files are located\n",
    "directory = \"C:\\\\Users\\\\91978\\\\Desktop\\\\inflation_prediction_project\\\\excel_files\"\n",
    "\n",
    "# Initialize an empty list to store DataFrames\n",
    "dfs = []\n",
    "\n",
    "# Iterate over each file in the directory\n",
    "for filename in os.listdir(directory):\n",
    "    if filename.endswith('.xlsx'):  # Check if the file is an Excel file\n",
    "        filepath = os.path.join(directory, filename)\n",
    "        # Read the Excel file into a DataFrame\n",
    "        df = pd.read_excel(filepath)\n",
    "        # Append the DataFrame to the list\n",
    "        dfs.append(df)\n",
    "\n",
    "# Concatenate the DataFrames along the rows\n",
    "combined_df = pd.concat(dfs, ignore_index=True)\n",
    "\n",
    "# Handle missing dates if necessary (e.g., fill or drop)\n",
    "# combined_df = combined_df.dropna(subset=['Date'])\n",
    "\n",
    "# Write the combined DataFrame to a new Excel file\n",
    "output_file=\"C:\\\\Users\\\\91978\\\\Desktop\\\\inflation_prediction_project\\\\excel_files\\\\combine_dataset.xlsx\"\n",
    "\n",
    "combined_df.to_excel(output_file, index=False,engine='xlsxwriter')\n"
   ]
  },
  {
   "cell_type": "markdown",
   "metadata": {},
   "source": [
    "Extrapolation of unemployment data in monthly format using X-12-ARIMA"
   ]
  },
  {
   "cell_type": "code",
   "execution_count": null,
   "metadata": {},
   "outputs": [],
   "source": [
    "yoy=pd.read_excel('C:\\\\Users\\\\91978\\\\Desktop\\\\inflation_prediction_project\\\\yoy_unemployment_rate.xlsx')\n",
    "monthly_data=pd.read_excel('C:\\\\Users\\\\91978\\\\Desktop\\\\inflation_prediction_project\\\\excel_files\\\\unemployment_monthly.xlsx')\n",
    "\n",
    "\n"
   ]
  },
  {
   "cell_type": "code",
   "execution_count": null,
   "metadata": {},
   "outputs": [
    {
     "name": "stdout",
     "output_type": "stream",
     "text": [
      "        Date  Unemployment Rate (%)\n",
      "0 2016-04-01                    8.9\n",
      "1 2016-05-01                    9.7\n",
      "2 2016-06-01                    8.9\n",
      "3 2016-07-01                    8.5\n",
      "4 2016-08-01                    9.6\n"
     ]
    }
   ],
   "source": [
    "import pandas as pd\n",
    "\n",
    "\n",
    "\n",
    "# Convert the 'Date' column to datetime format\n",
    "monthly_data['Date'] = pd.to_datetime(monthly_data['Date'], format='%m/%Y')\n",
    "\n",
    "# Sort the dataframe by date\n",
    "monthly_data.sort_values('Date', inplace=True)\n",
    "\n",
    "# Display the first few rows of the dataframe\n",
    "print(monthly_data.head())\n",
    "\n",
    "# Now you can proceed with the X-13 ARIMA analysis using the 'Date' and 'Unemployment Rate (%)' columns.\n"
   ]
  },
  {
   "cell_type": "code",
   "execution_count": null,
   "metadata": {},
   "outputs": [
    {
     "name": "stdout",
     "output_type": "stream",
     "text": [
      "C:\\Users\\91978\\Desktop\\inflation_prediction_project\\Time_Sereis_models\\x12a.exe\n",
      "C:\\Users\\91978\\Desktop\\inflation_prediction_project\\Time_Sereis_models\\x13as.exe\n"
     ]
    }
   ],
   "source": [
    "import os\n",
    "print(os.environ['X12PATH'])\n",
    "print(os.environ['X13PATH'])\n"
   ]
  },
  {
   "cell_type": "code",
   "execution_count": null,
   "metadata": {},
   "outputs": [],
   "source": []
  },
  {
   "cell_type": "code",
   "execution_count": null,
   "metadata": {},
   "outputs": [
    {
     "data": {
      "text/html": [
       "<div>\n",
       "<style scoped>\n",
       "    .dataframe tbody tr th:only-of-type {\n",
       "        vertical-align: middle;\n",
       "    }\n",
       "\n",
       "    .dataframe tbody tr th {\n",
       "        vertical-align: top;\n",
       "    }\n",
       "\n",
       "    .dataframe thead th {\n",
       "        text-align: right;\n",
       "    }\n",
       "</style>\n",
       "<table border=\"1\" class=\"dataframe\">\n",
       "  <thead>\n",
       "    <tr style=\"text-align: right;\">\n",
       "      <th></th>\n",
       "      <th>date</th>\n",
       "      <th>Unemployment Rate (%)</th>\n",
       "      <th>Annual Change</th>\n",
       "      <th></th>\n",
       "      <th>Date</th>\n",
       "      <th>Unemployment Rate (%)</th>\n",
       "    </tr>\n",
       "  </thead>\n",
       "  <tbody>\n",
       "    <tr>\n",
       "      <th>0</th>\n",
       "      <td>1991-12-01</td>\n",
       "      <td>6.737</td>\n",
       "      <td>NaN</td>\n",
       "      <td>NaN</td>\n",
       "      <td>NaT</td>\n",
       "      <td>NaN</td>\n",
       "    </tr>\n",
       "    <tr>\n",
       "      <th>1</th>\n",
       "      <td>1992-12-01</td>\n",
       "      <td>6.815</td>\n",
       "      <td>0.08</td>\n",
       "      <td>NaN</td>\n",
       "      <td>NaT</td>\n",
       "      <td>NaN</td>\n",
       "    </tr>\n",
       "    <tr>\n",
       "      <th>2</th>\n",
       "      <td>1993-12-01</td>\n",
       "      <td>6.798</td>\n",
       "      <td>-0.02</td>\n",
       "      <td>NaN</td>\n",
       "      <td>NaT</td>\n",
       "      <td>NaN</td>\n",
       "    </tr>\n",
       "    <tr>\n",
       "      <th>3</th>\n",
       "      <td>1994-12-01</td>\n",
       "      <td>6.830</td>\n",
       "      <td>0.03</td>\n",
       "      <td>NaN</td>\n",
       "      <td>NaT</td>\n",
       "      <td>NaN</td>\n",
       "    </tr>\n",
       "    <tr>\n",
       "      <th>4</th>\n",
       "      <td>1995-12-01</td>\n",
       "      <td>7.014</td>\n",
       "      <td>0.18</td>\n",
       "      <td>NaN</td>\n",
       "      <td>NaT</td>\n",
       "      <td>NaN</td>\n",
       "    </tr>\n",
       "  </tbody>\n",
       "</table>\n",
       "</div>"
      ],
      "text/plain": [
       "        date   Unemployment Rate (%)   Annual Change     Date  \\\n",
       "0 1991-12-01                   6.737             NaN NaN  NaT   \n",
       "1 1992-12-01                   6.815            0.08 NaN  NaT   \n",
       "2 1993-12-01                   6.798           -0.02 NaN  NaT   \n",
       "3 1994-12-01                   6.830            0.03 NaN  NaT   \n",
       "4 1995-12-01                   7.014            0.18 NaN  NaT   \n",
       "\n",
       "   Unemployment Rate (%)  \n",
       "0                    NaN  \n",
       "1                    NaN  \n",
       "2                    NaN  \n",
       "3                    NaN  \n",
       "4                    NaN  "
      ]
     },
     "execution_count": 267,
     "metadata": {},
     "output_type": "execute_result"
    }
   ],
   "source": [
    "combined_data.head()"
   ]
  },
  {
   "cell_type": "code",
   "execution_count": null,
   "metadata": {},
   "outputs": [
    {
     "data": {
      "text/html": [
       "<div>\n",
       "<style scoped>\n",
       "    .dataframe tbody tr th:only-of-type {\n",
       "        vertical-align: middle;\n",
       "    }\n",
       "\n",
       "    .dataframe tbody tr th {\n",
       "        vertical-align: top;\n",
       "    }\n",
       "\n",
       "    .dataframe thead th {\n",
       "        text-align: right;\n",
       "    }\n",
       "</style>\n",
       "<table border=\"1\" class=\"dataframe\">\n",
       "  <thead>\n",
       "    <tr style=\"text-align: right;\">\n",
       "      <th></th>\n",
       "      <th>date</th>\n",
       "      <th>Unemployment Rate (%)</th>\n",
       "      <th>Annual Change</th>\n",
       "      <th></th>\n",
       "    </tr>\n",
       "  </thead>\n",
       "  <tbody>\n",
       "    <tr>\n",
       "      <th>1991-12-01</th>\n",
       "      <td>1991-12-01</td>\n",
       "      <td>6.737</td>\n",
       "      <td>NaN</td>\n",
       "      <td>NaN</td>\n",
       "    </tr>\n",
       "    <tr>\n",
       "      <th>1992-01-01</th>\n",
       "      <td>1992-12-01</td>\n",
       "      <td>6.815</td>\n",
       "      <td>0.08</td>\n",
       "      <td>NaN</td>\n",
       "    </tr>\n",
       "    <tr>\n",
       "      <th>1992-02-01</th>\n",
       "      <td>1993-12-01</td>\n",
       "      <td>6.798</td>\n",
       "      <td>-0.02</td>\n",
       "      <td>NaN</td>\n",
       "    </tr>\n",
       "    <tr>\n",
       "      <th>1992-03-01</th>\n",
       "      <td>1994-12-01</td>\n",
       "      <td>6.830</td>\n",
       "      <td>0.03</td>\n",
       "      <td>NaN</td>\n",
       "    </tr>\n",
       "    <tr>\n",
       "      <th>1992-04-01</th>\n",
       "      <td>1995-12-01</td>\n",
       "      <td>7.014</td>\n",
       "      <td>0.18</td>\n",
       "      <td>NaN</td>\n",
       "    </tr>\n",
       "  </tbody>\n",
       "</table>\n",
       "</div>"
      ],
      "text/plain": [
       "                 date  Unemployment Rate (%)  Annual Change    \n",
       "1991-12-01 1991-12-01                  6.737            NaN NaN\n",
       "1992-01-01 1992-12-01                  6.815           0.08 NaN\n",
       "1992-02-01 1993-12-01                  6.798          -0.02 NaN\n",
       "1992-03-01 1994-12-01                  6.830           0.03 NaN\n",
       "1992-04-01 1995-12-01                  7.014           0.18 NaN"
      ]
     },
     "execution_count": 268,
     "metadata": {},
     "output_type": "execute_result"
    }
   ],
   "source": [
    "yoy.head()"
   ]
  },
  {
   "cell_type": "code",
   "execution_count": 379,
   "metadata": {},
   "outputs": [
    {
     "data": {
      "text/html": [
       "<div>\n",
       "<style scoped>\n",
       "    .dataframe tbody tr th:only-of-type {\n",
       "        vertical-align: middle;\n",
       "    }\n",
       "\n",
       "    .dataframe tbody tr th {\n",
       "        vertical-align: top;\n",
       "    }\n",
       "\n",
       "    .dataframe thead th {\n",
       "        text-align: right;\n",
       "    }\n",
       "</style>\n",
       "<table border=\"1\" class=\"dataframe\">\n",
       "  <thead>\n",
       "    <tr style=\"text-align: right;\">\n",
       "      <th></th>\n",
       "      <th>Date</th>\n",
       "      <th>Unemployment Rate (%)</th>\n",
       "    </tr>\n",
       "  </thead>\n",
       "  <tbody>\n",
       "    <tr>\n",
       "      <th>0</th>\n",
       "      <td>2016-04-01</td>\n",
       "      <td>8.9</td>\n",
       "    </tr>\n",
       "    <tr>\n",
       "      <th>1</th>\n",
       "      <td>2016-05-01</td>\n",
       "      <td>9.7</td>\n",
       "    </tr>\n",
       "    <tr>\n",
       "      <th>2</th>\n",
       "      <td>2016-06-01</td>\n",
       "      <td>8.9</td>\n",
       "    </tr>\n",
       "    <tr>\n",
       "      <th>3</th>\n",
       "      <td>2016-07-01</td>\n",
       "      <td>8.5</td>\n",
       "    </tr>\n",
       "    <tr>\n",
       "      <th>4</th>\n",
       "      <td>2016-08-01</td>\n",
       "      <td>9.6</td>\n",
       "    </tr>\n",
       "  </tbody>\n",
       "</table>\n",
       "</div>"
      ],
      "text/plain": [
       "        Date  Unemployment Rate (%)\n",
       "0 2016-04-01                    8.9\n",
       "1 2016-05-01                    9.7\n",
       "2 2016-06-01                    8.9\n",
       "3 2016-07-01                    8.5\n",
       "4 2016-08-01                    9.6"
      ]
     },
     "execution_count": 379,
     "metadata": {},
     "output_type": "execute_result"
    }
   ],
   "source": [
    "monthly.head()"
   ]
  },
  {
   "cell_type": "code",
   "execution_count": 380,
   "metadata": {},
   "outputs": [
    {
     "name": "stdout",
     "output_type": "stream",
     "text": [
      "Index(['Unemployment Rate (%)', 'Annual Change'], dtype='object')\n"
     ]
    }
   ],
   "source": [
    "print(yoy.columns)\n"
   ]
  },
  {
   "cell_type": "code",
   "execution_count": null,
   "metadata": {},
   "outputs": [],
   "source": []
  },
  {
   "cell_type": "code",
   "execution_count": null,
   "metadata": {},
   "outputs": [
    {
     "data": {
      "text/plain": [
       "Index(['Date', 'Unemployment Rate (%)'], dtype='object')"
      ]
     },
     "execution_count": 272,
     "metadata": {},
     "output_type": "execute_result"
    }
   ],
   "source": [
    "monthly_data.columns"
   ]
  },
  {
   "cell_type": "code",
   "execution_count": null,
   "metadata": {},
   "outputs": [],
   "source": []
  },
  {
   "cell_type": "code",
   "execution_count": null,
   "metadata": {},
   "outputs": [],
   "source": []
  },
  {
   "cell_type": "code",
   "execution_count": 582,
   "metadata": {},
   "outputs": [
    {
     "name": "stdout",
     "output_type": "stream",
     "text": [
      "Columns of yoy:\n",
      "Index(['date', 'Unemployment Rate (%)', 'Annual Change', ''], dtype='object')\n",
      "\n",
      "Columns of monthly_data:\n",
      "Index(['Date', 'Unemployment Rate (%)'], dtype='object')\n"
     ]
    },
    {
     "data": {
      "text/plain": [
       "(32, 4)"
      ]
     },
     "execution_count": 582,
     "metadata": {},
     "output_type": "execute_result"
    }
   ],
   "source": [
    "yoy=pd.read_excel('C:\\\\Users\\\\91978\\\\Desktop\\\\inflation_prediction_project\\\\yoy_unemployment_rate.xlsx')\n",
    "monthly_data=pd.read_excel('C:\\\\Users\\\\91978\\\\Desktop\\\\inflation_prediction_project\\\\excel_files\\\\unemployment_monthly.xlsx')\n",
    "\n",
    "\n",
    "# Remove leading spaces from column names in yoy DataFrame\n",
    "yoy.columns = yoy.columns.str.strip()\n",
    "\n",
    "# Print column names\n",
    "print(\"Columns of yoy:\")\n",
    "print(yoy.columns)\n",
    "\n",
    "print(\"\\nColumns of monthly_data:\")\n",
    "print(monthly_data.columns)\n",
    "yoy.shape"
   ]
  },
  {
   "cell_type": "code",
   "execution_count": 583,
   "metadata": {},
   "outputs": [
    {
     "data": {
      "text/html": [
       "<div>\n",
       "<style scoped>\n",
       "    .dataframe tbody tr th:only-of-type {\n",
       "        vertical-align: middle;\n",
       "    }\n",
       "\n",
       "    .dataframe tbody tr th {\n",
       "        vertical-align: top;\n",
       "    }\n",
       "\n",
       "    .dataframe thead th {\n",
       "        text-align: right;\n",
       "    }\n",
       "</style>\n",
       "<table border=\"1\" class=\"dataframe\">\n",
       "  <thead>\n",
       "    <tr style=\"text-align: right;\">\n",
       "      <th></th>\n",
       "      <th>date</th>\n",
       "      <th>Unemployment Rate (%)</th>\n",
       "    </tr>\n",
       "  </thead>\n",
       "  <tbody>\n",
       "    <tr>\n",
       "      <th>0</th>\n",
       "      <td>1991-12-01</td>\n",
       "      <td>6.737</td>\n",
       "    </tr>\n",
       "    <tr>\n",
       "      <th>1</th>\n",
       "      <td>1992-12-01</td>\n",
       "      <td>6.815</td>\n",
       "    </tr>\n",
       "    <tr>\n",
       "      <th>2</th>\n",
       "      <td>1993-12-01</td>\n",
       "      <td>6.798</td>\n",
       "    </tr>\n",
       "    <tr>\n",
       "      <th>3</th>\n",
       "      <td>1994-12-01</td>\n",
       "      <td>6.830</td>\n",
       "    </tr>\n",
       "    <tr>\n",
       "      <th>4</th>\n",
       "      <td>1995-12-01</td>\n",
       "      <td>7.014</td>\n",
       "    </tr>\n",
       "  </tbody>\n",
       "</table>\n",
       "</div>"
      ],
      "text/plain": [
       "        date  Unemployment Rate (%)\n",
       "0 1991-12-01                  6.737\n",
       "1 1992-12-01                  6.815\n",
       "2 1993-12-01                  6.798\n",
       "3 1994-12-01                  6.830\n",
       "4 1995-12-01                  7.014"
      ]
     },
     "execution_count": 583,
     "metadata": {},
     "output_type": "execute_result"
    }
   ],
   "source": [
    "yoy = yoy[['date', 'Unemployment Rate (%)']]\n",
    "yoy.head()"
   ]
  },
  {
   "cell_type": "code",
   "execution_count": 584,
   "metadata": {},
   "outputs": [],
   "source": [
    "from scipy.interpolate import CubicSpline\n",
    "\n",
    "# Define the data points\n",
    "x = [1, 2,4,5]  # x-coordinates\n",
    "y = [2,-1,6,8]  # y-coordinates\n",
    "\n",
    "# Create a cubic spline object\n",
    "cs = CubicSpline(x, y)\n",
    "\n",
    "# Evaluate the spline function at a specific point\n",
    "x_new = 2.5\n",
    "y_new = cs(x_new)\n",
    "\n",
    "# Or evaluate the spline function over a range of points\n",
    "x_range = np.linspace(min(x), max(x), 12)\n",
    "y_range = cs(x_range)"
   ]
  },
  {
   "cell_type": "code",
   "execution_count": 585,
   "metadata": {},
   "outputs": [
    {
     "data": {
      "text/plain": [
       "array([ 2.00000000e+00,  1.00175307e-03, -9.12096168e-01, -9.31630353e-01,\n",
       "       -2.49937390e-01,  9.40646131e-01,  2.44778362e+00,  4.07913849e+00,\n",
       "        5.64237415e+00,  6.94515402e+00,  7.79514150e+00,  8.00000000e+00])"
      ]
     },
     "execution_count": 585,
     "metadata": {},
     "output_type": "execute_result"
    }
   ],
   "source": [
    "y_range"
   ]
  },
  {
   "cell_type": "code",
   "execution_count": null,
   "metadata": {},
   "outputs": [],
   "source": []
  },
  {
   "cell_type": "code",
   "execution_count": 586,
   "metadata": {},
   "outputs": [],
   "source": [
    "yoy_sub = yoy.iloc[:26]  # Keep data up to the 25th index (inclusive)\n"
   ]
  },
  {
   "cell_type": "code",
   "execution_count": 587,
   "metadata": {},
   "outputs": [
    {
     "name": "stderr",
     "output_type": "stream",
     "text": [
      "C:\\Users\\91978\\AppData\\Local\\Temp\\ipykernel_30880\\3228502846.py:1: SettingWithCopyWarning: \n",
      "A value is trying to be set on a copy of a slice from a DataFrame.\n",
      "Try using .loc[row_indexer,col_indexer] = value instead\n",
      "\n",
      "See the caveats in the documentation: https://pandas.pydata.org/pandas-docs/stable/user_guide/indexing.html#returning-a-view-versus-a-copy\n",
      "  yoy_sub['date'] = yoy_sub['date'].astype(str)\n"
     ]
    }
   ],
   "source": [
    "yoy_sub['date'] = yoy_sub['date'].astype(str)\n"
   ]
  },
  {
   "cell_type": "code",
   "execution_count": 588,
   "metadata": {},
   "outputs": [
    {
     "data": {
      "text/plain": [
       "'1991-12-01'"
      ]
     },
     "execution_count": 588,
     "metadata": {},
     "output_type": "execute_result"
    }
   ],
   "source": [
    "yoy_sub['date'][0]"
   ]
  },
  {
   "cell_type": "code",
   "execution_count": 589,
   "metadata": {},
   "outputs": [
    {
     "name": "stdout",
     "output_type": "stream",
     "text": [
      "          Date  Unemployment Rate (%)\n",
      "0   1991-12-01               6.737000\n",
      "1   1992-01-01               6.743500\n",
      "2   1992-02-01               6.750000\n",
      "3   1992-03-01               6.756500\n",
      "4   1992-04-01               6.763000\n",
      "..         ...                    ...\n",
      "320 2016-08-01               7.866333\n",
      "321 2016-09-01               7.860250\n",
      "322 2016-10-01               7.854167\n",
      "323 2016-11-01               7.848083\n",
      "324 2016-12-01               7.842000\n",
      "\n",
      "[325 rows x 2 columns]\n"
     ]
    }
   ],
   "source": [
    "import pandas as pd\n",
    "import numpy as np\n",
    "from scipy.interpolate import CubicSpline\n",
    "\n",
    "def generate_monthly_data(start_value, end_value, start_date, end_date):\n",
    "    # Generate 11 intervals between the start and end dates\n",
    "    monthly_dates = pd.date_range(start=start_date, end=end_date, freq='MS')\n",
    "    \n",
    "    # Interpolate between start and end values using Cubic Spline\n",
    "    cs = CubicSpline([0, 1], [start_value, end_value])\n",
    "    interpolated_values = cs(np.linspace(0, 1, 13))\n",
    "    \n",
    "    # Create DataFrame with monthly dates and interpolated values\n",
    "    monthly_df = pd.DataFrame({'Date': monthly_dates, 'Unemployment Rate (%)': interpolated_values})\n",
    "    \n",
    "    return monthly_df\n",
    "\n",
    "def generate_monthly_interpolation(yearly_data):\n",
    "    monthly_data_list = []\n",
    "    for i in range(len(yearly_data) - 1):\n",
    "        start_date = yearly_data.iloc[i]['date']\n",
    "        end_date = yearly_data.iloc[i + 1]['date']\n",
    "        start_value = yearly_data.iloc[i]['Unemployment Rate (%)']\n",
    "        end_value = yearly_data.iloc[i + 1]['Unemployment Rate (%)']\n",
    "        \n",
    "        # Generate monthly interpolation for the pair\n",
    "        monthly_df = generate_monthly_data(start_value, end_value, start_date, end_date)\n",
    "        monthly_data_list.append(monthly_df)\n",
    "    \n",
    "    # Concatenate all the monthly dataframes into one\n",
    "    monthly_interpolated_data = pd.concat(monthly_data_list, ignore_index=True)\n",
    "    return monthly_interpolated_data\n",
    "\n",
    "# Example usage:\n",
    "monthly_interpolated = generate_monthly_interpolation(yoy_sub)\n",
    "print(monthly_interpolated)\n"
   ]
  },
  {
   "cell_type": "code",
   "execution_count": 590,
   "metadata": {},
   "outputs": [],
   "source": [
    "# Save the DataFrame to an Excel file\n",
    "monthly_interpolated.to_excel('monthly_interpolated_unemployment.xlsx', index=False)\n"
   ]
  },
  {
   "cell_type": "code",
   "execution_count": 598,
   "metadata": {},
   "outputs": [],
   "source": []
  },
  {
   "cell_type": "code",
   "execution_count": 599,
   "metadata": {},
   "outputs": [
    {
     "data": {
      "text/plain": [
       "array([7.84 , 8.052, 8.264, 8.476, 8.688, 8.9  ])"
      ]
     },
     "execution_count": 599,
     "metadata": {},
     "output_type": "execute_result"
    }
   ],
   "source": []
  },
  {
   "cell_type": "code",
   "execution_count": null,
   "metadata": {},
   "outputs": [],
   "source": []
  }
 ],
 "metadata": {
  "kernelspec": {
   "display_name": "base",
   "language": "python",
   "name": "python3"
  },
  "language_info": {
   "codemirror_mode": {
    "name": "ipython",
    "version": 3
   },
   "file_extension": ".py",
   "mimetype": "text/x-python",
   "name": "python",
   "nbconvert_exporter": "python",
   "pygments_lexer": "ipython3",
   "version": "3.10.13"
  }
 },
 "nbformat": 4,
 "nbformat_minor": 2
}
